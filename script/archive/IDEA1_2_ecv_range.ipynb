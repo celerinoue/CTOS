{
 "metadata": {
  "language_info": {
   "codemirror_mode": {
    "name": "ipython",
    "version": 3
   },
   "file_extension": ".py",
   "mimetype": "text/x-python",
   "name": "python",
   "nbconvert_exporter": "python",
   "pygments_lexer": "ipython3",
   "version": "3.7.7-final"
  },
  "orig_nbformat": 2,
  "kernelspec": {
   "name": "python3",
   "display_name": "Python 3",
   "language": "python"
  }
 },
 "nbformat": 4,
 "nbformat_minor": 2,
 "cells": [
  {
   "cell_type": "code",
   "execution_count": 1,
   "metadata": {},
   "outputs": [],
   "source": [
    "# import module\n",
    "import numpy as np\n",
    "import pandas as pd\n",
    "import pickle\n",
    "import matplotlib.pyplot as plt\n",
    "import seaborn as sns\n",
    "import itertools\n",
    "\n",
    "\n",
    "# set directry\n",
    "os.chdir('/Users/celerinoue/0_res/CTOS/')"
   ]
  },
  {
   "source": [
    "# load"
   ],
   "cell_type": "markdown",
   "metadata": {}
  },
  {
   "cell_type": "code",
   "execution_count": 2,
   "metadata": {},
   "outputs": [
    {
     "output_type": "stream",
     "name": "stdout",
     "text": [
      "[LOAD]: data/ECv_network_result_0.15.txt, input matrix: (78859, 52)\n[LOAD]: result/txt/IDEA1_1/tumor_growth_rate.pickle, list length: 7\n[LOAD]: result/txt/drug_index.csv, input matrix: (7, 2)\n"
     ]
    }
   ],
   "source": [
    "# load the data\n",
    "def data_load():\n",
    "    # [LOAD] ECv data\n",
    "    file_1 = 'data/ECv_network_result_0.15.txt'\n",
    "    data_ecv_ = pd.read_table(file_1, sep='\\t', header=0)\n",
    "    print(f'[LOAD]: {file_1}, input matrix: {data_ecv_.shape}')\n",
    "\n",
    "    # [LOAD] tumor growth rate data (TGR data, drug1~7)\n",
    "    file_2 = 'result/txt/IDEA1_1/tumor_growth_rate.pickle'\n",
    "    with open(file_2, 'rb') as f:\n",
    "        list_tgr_ = pickle.load(f)\n",
    "        print(f'[LOAD]: {file_2}, list length: {len(list_tgr_)}')\n",
    "\n",
    "    # [LOAD] drug name list\n",
    "    file_3 = 'result/txt/drug_index.csv'\n",
    "    data_drug_name = pd.read_csv(file_3, sep=',', header=0, index_col=0)\n",
    "    print(f'[LOAD]: {file_3}, input matrix: {data_drug_name.shape}')\n",
    "\n",
    "    return data_ecv_, list_tgr_, data_drug_name\n",
    "\n",
    "data_ecv_, list_tgr_, data_drug_name = data_load()"
   ]
  },
  {
   "cell_type": "code",
   "execution_count": 3,
   "metadata": {},
   "outputs": [
    {
     "output_type": "execute_result",
     "data": {
      "text/plain": [
       "                                   Parent                             Child  \\\n",
       "0                                   ITGA7                            A23747   \n",
       "1                                     AXL                            A23747   \n",
       "2                                   AP1M2                            A23747   \n",
       "3                                  SLAMF1                            A23747   \n",
       "4                                   FBLN1                            A23747   \n",
       "...                                   ...                               ...   \n",
       "78854                              NACAP1  lincRNA:chrX:97546119-97657219_F   \n",
       "78855  lincRNA:chr2:107293518-107358418_R  lincRNA:chrX:97546119-97657219_F   \n",
       "78856                        A_24_P126691  lincRNA:chrX:97546119-97657219_R   \n",
       "78857                             C1orf43  lincRNA:chrX:97546119-97657219_R   \n",
       "78858  lincRNA:chr2:107293518-107358418_F  lincRNA:chrX:97546119-97657219_R   \n",
       "\n",
       "          id  parent.id  child.id  edgeScore      Freq  Count  \\\n",
       "0          1       4555         1   0.357812  0.357812  22755   \n",
       "1          2        718         1   0.502290  0.502290  21832   \n",
       "2          3        423         1   0.543966  0.543966  25338   \n",
       "3          4       8168         1   0.270219  0.270219  14640   \n",
       "4          5       3499         1   0.244207  0.244207  20024   \n",
       "...      ...        ...       ...        ...       ...    ...   \n",
       "78854  78855       6014     11963   0.504334  0.504334  32185   \n",
       "78855  78856      11048     11963   0.383769  0.383769  25987   \n",
       "78856  78857        732     11964   0.186317  0.186317  16225   \n",
       "78857  78858       1553     11964   0.572742  0.572742  29797   \n",
       "78858  78859      11047     11964   0.601600  0.601600  23125   \n",
       "\n",
       "                                                 bspline       gain  ...  \\\n",
       "0      7.5167384:12.3292597:5.8895823:6.0121836:6.134...  -1.145007  ...   \n",
       "1      7.1259124:11.0074875:-0.1042063:-0.0814324:-0....   3.753151  ...   \n",
       "2      4.9612921:11.2914667:1.8975486:1.7688303:1.640...  -2.579039  ...   \n",
       "3      5.1113257:7.9960721:-0.9513332:-0.7884424:-0.6... -10.944180  ...   \n",
       "4      5.5211898:12.0383133:-0.3399919:-0.2614925:-0....  -1.610999  ...   \n",
       "...                                                  ...        ...  ...   \n",
       "78854  10.6529067:13.7148702:-0.5116253:-0.4658062:-0...   5.499309  ...   \n",
       "78855  13.9138869:16.4268687:-1.0585435:-0.9773662:-0...  -2.249494  ...   \n",
       "78856  12.3478075:16.1191996:12.4532644:12.4563336:12...   8.259415  ...   \n",
       "78857  9.3352143:12.6318660:-0.1781475:-0.1624438:-0....   7.537833  ...   \n",
       "78858  11.6067551:14.4622960:-1.7400427:-1.5948759:-1... -24.399530  ...   \n",
       "\n",
       "       parent.Count  child.Count  \\\n",
       "0            169342       301263   \n",
       "1            155587       301263   \n",
       "2            381560       301263   \n",
       "3             93327       301263   \n",
       "4            178453       301263   \n",
       "...             ...          ...   \n",
       "78854        231457       340505   \n",
       "78855        218504       340505   \n",
       "78856        287171       112891   \n",
       "78857        827076       112891   \n",
       "78858        139742       112891   \n",
       "\n",
       "                        parent.bndc.parents.continuous  \\\n",
       "0                                             0:92:422   \n",
       "1                                 0:422:576:5462:11261   \n",
       "2                                  1999:2205:8490:2866   \n",
       "3      0:1364:2207:3024:3330:3542:4891:5210:6933:11050   \n",
       "4                                    9728:11545:0:2289   \n",
       "...                                                ...   \n",
       "78854                        8987:11962:1089:1927:2403   \n",
       "78855                                  739:11434:11962   \n",
       "78856                                    1024:739:2926   \n",
       "78857                                         928:7958   \n",
       "78858                            1552:9933:11048:11963   \n",
       "\n",
       "       child.bndc.parents.continuous  parent.bndc.parents.discrete  \\\n",
       "0             4554:717:422:8167:3498                           NaN   \n",
       "1             4554:717:422:8167:3498                           NaN   \n",
       "2             4554:717:422:8167:3498                           NaN   \n",
       "3             4554:717:422:8167:3498                           NaN   \n",
       "4             4554:717:422:8167:3498                           NaN   \n",
       "...                              ...                           ...   \n",
       "78854        770:792:1089:6013:11047                           NaN   \n",
       "78855        770:792:1089:6013:11047                           NaN   \n",
       "78856                 731:1552:11046                           NaN   \n",
       "78857                 731:1552:11046                           NaN   \n",
       "78858                 731:1552:11046                           NaN   \n",
       "\n",
       "       child.bndc.parents.discrete  parent.mean  child.mean  parent.variance  \\\n",
       "0                              NaN          0.0         0.0         0.096235   \n",
       "1                              NaN          0.0         0.0         0.037213   \n",
       "2                              NaN          0.0         0.0         0.154004   \n",
       "3                              NaN          0.0         0.0         0.039766   \n",
       "4                              NaN          0.0         0.0         0.221385   \n",
       "...                            ...          ...         ...              ...   \n",
       "78854                          NaN          0.0         0.0         0.022078   \n",
       "78855                          NaN          0.0         0.0         0.008758   \n",
       "78856                          NaN          0.0         0.0         0.008981   \n",
       "78857                          NaN          0.0         0.0         0.026167   \n",
       "78858                          NaN          0.0         0.0         0.002426   \n",
       "\n",
       "       child.variance  \n",
       "0            0.111883  \n",
       "1            0.111883  \n",
       "2            0.111883  \n",
       "3            0.111883  \n",
       "4            0.111883  \n",
       "...               ...  \n",
       "78854        0.023374  \n",
       "78855        0.023374  \n",
       "78856        0.016659  \n",
       "78857        0.016659  \n",
       "78858        0.016659  \n",
       "\n",
       "[78859 rows x 52 columns]"
      ],
      "text/html": "<div>\n<style scoped>\n    .dataframe tbody tr th:only-of-type {\n        vertical-align: middle;\n    }\n\n    .dataframe tbody tr th {\n        vertical-align: top;\n    }\n\n    .dataframe thead th {\n        text-align: right;\n    }\n</style>\n<table border=\"1\" class=\"dataframe\">\n  <thead>\n    <tr style=\"text-align: right;\">\n      <th></th>\n      <th>Parent</th>\n      <th>Child</th>\n      <th>id</th>\n      <th>parent.id</th>\n      <th>child.id</th>\n      <th>edgeScore</th>\n      <th>Freq</th>\n      <th>Count</th>\n      <th>bspline</th>\n      <th>gain</th>\n      <th>...</th>\n      <th>parent.Count</th>\n      <th>child.Count</th>\n      <th>parent.bndc.parents.continuous</th>\n      <th>child.bndc.parents.continuous</th>\n      <th>parent.bndc.parents.discrete</th>\n      <th>child.bndc.parents.discrete</th>\n      <th>parent.mean</th>\n      <th>child.mean</th>\n      <th>parent.variance</th>\n      <th>child.variance</th>\n    </tr>\n  </thead>\n  <tbody>\n    <tr>\n      <th>0</th>\n      <td>ITGA7</td>\n      <td>A23747</td>\n      <td>1</td>\n      <td>4555</td>\n      <td>1</td>\n      <td>0.357812</td>\n      <td>0.357812</td>\n      <td>22755</td>\n      <td>7.5167384:12.3292597:5.8895823:6.0121836:6.134...</td>\n      <td>-1.145007</td>\n      <td>...</td>\n      <td>169342</td>\n      <td>301263</td>\n      <td>0:92:422</td>\n      <td>4554:717:422:8167:3498</td>\n      <td>NaN</td>\n      <td>NaN</td>\n      <td>0.0</td>\n      <td>0.0</td>\n      <td>0.096235</td>\n      <td>0.111883</td>\n    </tr>\n    <tr>\n      <th>1</th>\n      <td>AXL</td>\n      <td>A23747</td>\n      <td>2</td>\n      <td>718</td>\n      <td>1</td>\n      <td>0.502290</td>\n      <td>0.502290</td>\n      <td>21832</td>\n      <td>7.1259124:11.0074875:-0.1042063:-0.0814324:-0....</td>\n      <td>3.753151</td>\n      <td>...</td>\n      <td>155587</td>\n      <td>301263</td>\n      <td>0:422:576:5462:11261</td>\n      <td>4554:717:422:8167:3498</td>\n      <td>NaN</td>\n      <td>NaN</td>\n      <td>0.0</td>\n      <td>0.0</td>\n      <td>0.037213</td>\n      <td>0.111883</td>\n    </tr>\n    <tr>\n      <th>2</th>\n      <td>AP1M2</td>\n      <td>A23747</td>\n      <td>3</td>\n      <td>423</td>\n      <td>1</td>\n      <td>0.543966</td>\n      <td>0.543966</td>\n      <td>25338</td>\n      <td>4.9612921:11.2914667:1.8975486:1.7688303:1.640...</td>\n      <td>-2.579039</td>\n      <td>...</td>\n      <td>381560</td>\n      <td>301263</td>\n      <td>1999:2205:8490:2866</td>\n      <td>4554:717:422:8167:3498</td>\n      <td>NaN</td>\n      <td>NaN</td>\n      <td>0.0</td>\n      <td>0.0</td>\n      <td>0.154004</td>\n      <td>0.111883</td>\n    </tr>\n    <tr>\n      <th>3</th>\n      <td>SLAMF1</td>\n      <td>A23747</td>\n      <td>4</td>\n      <td>8168</td>\n      <td>1</td>\n      <td>0.270219</td>\n      <td>0.270219</td>\n      <td>14640</td>\n      <td>5.1113257:7.9960721:-0.9513332:-0.7884424:-0.6...</td>\n      <td>-10.944180</td>\n      <td>...</td>\n      <td>93327</td>\n      <td>301263</td>\n      <td>0:1364:2207:3024:3330:3542:4891:5210:6933:11050</td>\n      <td>4554:717:422:8167:3498</td>\n      <td>NaN</td>\n      <td>NaN</td>\n      <td>0.0</td>\n      <td>0.0</td>\n      <td>0.039766</td>\n      <td>0.111883</td>\n    </tr>\n    <tr>\n      <th>4</th>\n      <td>FBLN1</td>\n      <td>A23747</td>\n      <td>5</td>\n      <td>3499</td>\n      <td>1</td>\n      <td>0.244207</td>\n      <td>0.244207</td>\n      <td>20024</td>\n      <td>5.5211898:12.0383133:-0.3399919:-0.2614925:-0....</td>\n      <td>-1.610999</td>\n      <td>...</td>\n      <td>178453</td>\n      <td>301263</td>\n      <td>9728:11545:0:2289</td>\n      <td>4554:717:422:8167:3498</td>\n      <td>NaN</td>\n      <td>NaN</td>\n      <td>0.0</td>\n      <td>0.0</td>\n      <td>0.221385</td>\n      <td>0.111883</td>\n    </tr>\n    <tr>\n      <th>...</th>\n      <td>...</td>\n      <td>...</td>\n      <td>...</td>\n      <td>...</td>\n      <td>...</td>\n      <td>...</td>\n      <td>...</td>\n      <td>...</td>\n      <td>...</td>\n      <td>...</td>\n      <td>...</td>\n      <td>...</td>\n      <td>...</td>\n      <td>...</td>\n      <td>...</td>\n      <td>...</td>\n      <td>...</td>\n      <td>...</td>\n      <td>...</td>\n      <td>...</td>\n      <td>...</td>\n    </tr>\n    <tr>\n      <th>78854</th>\n      <td>NACAP1</td>\n      <td>lincRNA:chrX:97546119-97657219_F</td>\n      <td>78855</td>\n      <td>6014</td>\n      <td>11963</td>\n      <td>0.504334</td>\n      <td>0.504334</td>\n      <td>32185</td>\n      <td>10.6529067:13.7148702:-0.5116253:-0.4658062:-0...</td>\n      <td>5.499309</td>\n      <td>...</td>\n      <td>231457</td>\n      <td>340505</td>\n      <td>8987:11962:1089:1927:2403</td>\n      <td>770:792:1089:6013:11047</td>\n      <td>NaN</td>\n      <td>NaN</td>\n      <td>0.0</td>\n      <td>0.0</td>\n      <td>0.022078</td>\n      <td>0.023374</td>\n    </tr>\n    <tr>\n      <th>78855</th>\n      <td>lincRNA:chr2:107293518-107358418_R</td>\n      <td>lincRNA:chrX:97546119-97657219_F</td>\n      <td>78856</td>\n      <td>11048</td>\n      <td>11963</td>\n      <td>0.383769</td>\n      <td>0.383769</td>\n      <td>25987</td>\n      <td>13.9138869:16.4268687:-1.0585435:-0.9773662:-0...</td>\n      <td>-2.249494</td>\n      <td>...</td>\n      <td>218504</td>\n      <td>340505</td>\n      <td>739:11434:11962</td>\n      <td>770:792:1089:6013:11047</td>\n      <td>NaN</td>\n      <td>NaN</td>\n      <td>0.0</td>\n      <td>0.0</td>\n      <td>0.008758</td>\n      <td>0.023374</td>\n    </tr>\n    <tr>\n      <th>78856</th>\n      <td>A_24_P126691</td>\n      <td>lincRNA:chrX:97546119-97657219_R</td>\n      <td>78857</td>\n      <td>732</td>\n      <td>11964</td>\n      <td>0.186317</td>\n      <td>0.186317</td>\n      <td>16225</td>\n      <td>12.3478075:16.1191996:12.4532644:12.4563336:12...</td>\n      <td>8.259415</td>\n      <td>...</td>\n      <td>287171</td>\n      <td>112891</td>\n      <td>1024:739:2926</td>\n      <td>731:1552:11046</td>\n      <td>NaN</td>\n      <td>NaN</td>\n      <td>0.0</td>\n      <td>0.0</td>\n      <td>0.008981</td>\n      <td>0.016659</td>\n    </tr>\n    <tr>\n      <th>78857</th>\n      <td>C1orf43</td>\n      <td>lincRNA:chrX:97546119-97657219_R</td>\n      <td>78858</td>\n      <td>1553</td>\n      <td>11964</td>\n      <td>0.572742</td>\n      <td>0.572742</td>\n      <td>29797</td>\n      <td>9.3352143:12.6318660:-0.1781475:-0.1624438:-0....</td>\n      <td>7.537833</td>\n      <td>...</td>\n      <td>827076</td>\n      <td>112891</td>\n      <td>928:7958</td>\n      <td>731:1552:11046</td>\n      <td>NaN</td>\n      <td>NaN</td>\n      <td>0.0</td>\n      <td>0.0</td>\n      <td>0.026167</td>\n      <td>0.016659</td>\n    </tr>\n    <tr>\n      <th>78858</th>\n      <td>lincRNA:chr2:107293518-107358418_F</td>\n      <td>lincRNA:chrX:97546119-97657219_R</td>\n      <td>78859</td>\n      <td>11047</td>\n      <td>11964</td>\n      <td>0.601600</td>\n      <td>0.601600</td>\n      <td>23125</td>\n      <td>11.6067551:14.4622960:-1.7400427:-1.5948759:-1...</td>\n      <td>-24.399530</td>\n      <td>...</td>\n      <td>139742</td>\n      <td>112891</td>\n      <td>1552:9933:11048:11963</td>\n      <td>731:1552:11046</td>\n      <td>NaN</td>\n      <td>NaN</td>\n      <td>0.0</td>\n      <td>0.0</td>\n      <td>0.002426</td>\n      <td>0.016659</td>\n    </tr>\n  </tbody>\n</table>\n<p>78859 rows × 52 columns</p>\n</div>"
     },
     "metadata": {},
     "execution_count": 3
    }
   ],
   "source": [
    "data_ecv_"
   ]
  },
  {
   "cell_type": "code",
   "execution_count": 4,
   "metadata": {},
   "outputs": [
    {
     "output_type": "stream",
     "name": "stdout",
     "text": [
      "[INFO] reshape the data\n"
     ]
    }
   ],
   "source": [
    "# reshape\n",
    "def reshape(data_ecv_, list_tgr_):\n",
    "    # reshape data_ecv\n",
    "    data_ecv = data_ecv_.loc[:, ['Parent',\n",
    "                                 'Child',\n",
    "                                 'ECv:C97-float:8',  # CTOS_line = 1\n",
    "                                 'ECv:C166-float:21',  # CTOS_line = 2\n",
    "                                 'ECv:C86-float:17',  # CTOS_line = 3\n",
    "                                 'ECv:C111-foat:18',  # CTOS_line = 4\n",
    "                                 'ECv:C45-float:5',  # CTOS_line = 5\n",
    "                                 'ECv:C48-float:6',  # CTOS_line = 6\n",
    "                                 'ECv:C138-float:20',  # CTOS_line = 7\n",
    "                                 'ECv:CB3-float:22',  # CTOS_line = 8\n",
    "                                 'ECv:C75-float:7',  # CTOS_line = 9\n",
    "                                 'ECv:C132-float:19'  # CTOS_line = 10\n",
    "                                 ]]  # 必要なedgeを抽出\n",
    "\n",
    "    # reshape list_tgr\n",
    "    list_tgr_d28 = []\n",
    "    for i in range(len(list_tgr_)):\n",
    "        tgr_d28_ = list_tgr_[i].iloc[:, 8:]\n",
    "        list_tgr_d28.append(tgr_d28_)\n",
    "\n",
    "    print('[INFO] reshape the data')\n",
    "    return data_ecv, list_tgr_d28\n",
    "\n",
    "\n",
    "data_ecv, list_tgr_d28 = reshape(data_ecv_, list_tgr_)"
   ]
  },
  {
   "cell_type": "code",
   "execution_count": 5,
   "metadata": {},
   "outputs": [
    {
     "output_type": "execute_result",
     "data": {
      "text/plain": [
       "                                   Parent                             Child  \\\n",
       "0                                   ITGA7                            A23747   \n",
       "1                                     AXL                            A23747   \n",
       "2                                   AP1M2                            A23747   \n",
       "3                                  SLAMF1                            A23747   \n",
       "4                                   FBLN1                            A23747   \n",
       "...                                   ...                               ...   \n",
       "78854                              NACAP1  lincRNA:chrX:97546119-97657219_F   \n",
       "78855  lincRNA:chr2:107293518-107358418_R  lincRNA:chrX:97546119-97657219_F   \n",
       "78856                        A_24_P126691  lincRNA:chrX:97546119-97657219_R   \n",
       "78857                             C1orf43  lincRNA:chrX:97546119-97657219_R   \n",
       "78858  lincRNA:chr2:107293518-107358418_F  lincRNA:chrX:97546119-97657219_R   \n",
       "\n",
       "       ECv:C97-float:8  ECv:C166-float:21  ECv:C86-float:17  ECv:C111-foat:18  \\\n",
       "0             6.594815           6.345684          6.332206          6.537262   \n",
       "1            -0.047771          -0.039535         -0.015503         -0.028371   \n",
       "2            -0.392876           0.091723         -0.200845         -0.231564   \n",
       "3             0.129603          -0.259722         -0.175755          0.067454   \n",
       "4            -0.178458          -0.196188         -0.124905         -0.170777   \n",
       "...                ...                ...               ...               ...   \n",
       "78854         0.122925          -0.000558         -0.144826         -0.103876   \n",
       "78855         0.009782           0.054173         -0.227011          0.016717   \n",
       "78856        12.492665          12.495724         12.495261         12.496654   \n",
       "78857         0.040848           0.031341          0.047562          0.029576   \n",
       "78858         0.497158           0.243684          0.464583          0.148101   \n",
       "\n",
       "       ECv:C45-float:5  ECv:C48-float:6  ECv:C138-float:20  ECv:CB3-float:22  \\\n",
       "0             6.373183         6.657370           6.412025          6.539362   \n",
       "1            -0.032229        -0.068649          -0.015117          0.059047   \n",
       "2            -0.265686        -0.224587          -0.127154         -0.075489   \n",
       "3            -0.788439        -0.312984          -0.299465         -0.210768   \n",
       "4            -0.081411        -0.161160          -0.134623          0.302383   \n",
       "...                ...              ...                ...               ...   \n",
       "78854         0.001169         0.086230          -0.059603          0.053983   \n",
       "78855        -0.042315         0.107339           0.158652          0.257222   \n",
       "78856        12.493486        12.494454          12.497193         12.503603   \n",
       "78857         0.048071        -0.001850           0.039658          0.040479   \n",
       "78858         0.188281         0.352963           0.680698          0.602094   \n",
       "\n",
       "       ECv:C75-float:7  ECv:C132-float:19  \n",
       "0             6.445698           6.374509  \n",
       "1            -0.061376          -0.008655  \n",
       "2            -0.166920          -0.368507  \n",
       "3            -0.430493           0.224160  \n",
       "4            -0.153786          -0.150178  \n",
       "...                ...                ...  \n",
       "78854         0.258925          -0.065045  \n",
       "78855         0.384503           0.093524  \n",
       "78856        12.505451          12.498717  \n",
       "78857         0.053610           0.055074  \n",
       "78858         0.732574           0.474960  \n",
       "\n",
       "[78859 rows x 12 columns]"
      ],
      "text/html": "<div>\n<style scoped>\n    .dataframe tbody tr th:only-of-type {\n        vertical-align: middle;\n    }\n\n    .dataframe tbody tr th {\n        vertical-align: top;\n    }\n\n    .dataframe thead th {\n        text-align: right;\n    }\n</style>\n<table border=\"1\" class=\"dataframe\">\n  <thead>\n    <tr style=\"text-align: right;\">\n      <th></th>\n      <th>Parent</th>\n      <th>Child</th>\n      <th>ECv:C97-float:8</th>\n      <th>ECv:C166-float:21</th>\n      <th>ECv:C86-float:17</th>\n      <th>ECv:C111-foat:18</th>\n      <th>ECv:C45-float:5</th>\n      <th>ECv:C48-float:6</th>\n      <th>ECv:C138-float:20</th>\n      <th>ECv:CB3-float:22</th>\n      <th>ECv:C75-float:7</th>\n      <th>ECv:C132-float:19</th>\n    </tr>\n  </thead>\n  <tbody>\n    <tr>\n      <th>0</th>\n      <td>ITGA7</td>\n      <td>A23747</td>\n      <td>6.594815</td>\n      <td>6.345684</td>\n      <td>6.332206</td>\n      <td>6.537262</td>\n      <td>6.373183</td>\n      <td>6.657370</td>\n      <td>6.412025</td>\n      <td>6.539362</td>\n      <td>6.445698</td>\n      <td>6.374509</td>\n    </tr>\n    <tr>\n      <th>1</th>\n      <td>AXL</td>\n      <td>A23747</td>\n      <td>-0.047771</td>\n      <td>-0.039535</td>\n      <td>-0.015503</td>\n      <td>-0.028371</td>\n      <td>-0.032229</td>\n      <td>-0.068649</td>\n      <td>-0.015117</td>\n      <td>0.059047</td>\n      <td>-0.061376</td>\n      <td>-0.008655</td>\n    </tr>\n    <tr>\n      <th>2</th>\n      <td>AP1M2</td>\n      <td>A23747</td>\n      <td>-0.392876</td>\n      <td>0.091723</td>\n      <td>-0.200845</td>\n      <td>-0.231564</td>\n      <td>-0.265686</td>\n      <td>-0.224587</td>\n      <td>-0.127154</td>\n      <td>-0.075489</td>\n      <td>-0.166920</td>\n      <td>-0.368507</td>\n    </tr>\n    <tr>\n      <th>3</th>\n      <td>SLAMF1</td>\n      <td>A23747</td>\n      <td>0.129603</td>\n      <td>-0.259722</td>\n      <td>-0.175755</td>\n      <td>0.067454</td>\n      <td>-0.788439</td>\n      <td>-0.312984</td>\n      <td>-0.299465</td>\n      <td>-0.210768</td>\n      <td>-0.430493</td>\n      <td>0.224160</td>\n    </tr>\n    <tr>\n      <th>4</th>\n      <td>FBLN1</td>\n      <td>A23747</td>\n      <td>-0.178458</td>\n      <td>-0.196188</td>\n      <td>-0.124905</td>\n      <td>-0.170777</td>\n      <td>-0.081411</td>\n      <td>-0.161160</td>\n      <td>-0.134623</td>\n      <td>0.302383</td>\n      <td>-0.153786</td>\n      <td>-0.150178</td>\n    </tr>\n    <tr>\n      <th>...</th>\n      <td>...</td>\n      <td>...</td>\n      <td>...</td>\n      <td>...</td>\n      <td>...</td>\n      <td>...</td>\n      <td>...</td>\n      <td>...</td>\n      <td>...</td>\n      <td>...</td>\n      <td>...</td>\n      <td>...</td>\n    </tr>\n    <tr>\n      <th>78854</th>\n      <td>NACAP1</td>\n      <td>lincRNA:chrX:97546119-97657219_F</td>\n      <td>0.122925</td>\n      <td>-0.000558</td>\n      <td>-0.144826</td>\n      <td>-0.103876</td>\n      <td>0.001169</td>\n      <td>0.086230</td>\n      <td>-0.059603</td>\n      <td>0.053983</td>\n      <td>0.258925</td>\n      <td>-0.065045</td>\n    </tr>\n    <tr>\n      <th>78855</th>\n      <td>lincRNA:chr2:107293518-107358418_R</td>\n      <td>lincRNA:chrX:97546119-97657219_F</td>\n      <td>0.009782</td>\n      <td>0.054173</td>\n      <td>-0.227011</td>\n      <td>0.016717</td>\n      <td>-0.042315</td>\n      <td>0.107339</td>\n      <td>0.158652</td>\n      <td>0.257222</td>\n      <td>0.384503</td>\n      <td>0.093524</td>\n    </tr>\n    <tr>\n      <th>78856</th>\n      <td>A_24_P126691</td>\n      <td>lincRNA:chrX:97546119-97657219_R</td>\n      <td>12.492665</td>\n      <td>12.495724</td>\n      <td>12.495261</td>\n      <td>12.496654</td>\n      <td>12.493486</td>\n      <td>12.494454</td>\n      <td>12.497193</td>\n      <td>12.503603</td>\n      <td>12.505451</td>\n      <td>12.498717</td>\n    </tr>\n    <tr>\n      <th>78857</th>\n      <td>C1orf43</td>\n      <td>lincRNA:chrX:97546119-97657219_R</td>\n      <td>0.040848</td>\n      <td>0.031341</td>\n      <td>0.047562</td>\n      <td>0.029576</td>\n      <td>0.048071</td>\n      <td>-0.001850</td>\n      <td>0.039658</td>\n      <td>0.040479</td>\n      <td>0.053610</td>\n      <td>0.055074</td>\n    </tr>\n    <tr>\n      <th>78858</th>\n      <td>lincRNA:chr2:107293518-107358418_F</td>\n      <td>lincRNA:chrX:97546119-97657219_R</td>\n      <td>0.497158</td>\n      <td>0.243684</td>\n      <td>0.464583</td>\n      <td>0.148101</td>\n      <td>0.188281</td>\n      <td>0.352963</td>\n      <td>0.680698</td>\n      <td>0.602094</td>\n      <td>0.732574</td>\n      <td>0.474960</td>\n    </tr>\n  </tbody>\n</table>\n<p>78859 rows × 12 columns</p>\n</div>"
     },
     "metadata": {},
     "execution_count": 5
    }
   ],
   "source": [
    "data_ecv"
   ]
  },
  {
   "cell_type": "code",
   "execution_count": 6,
   "metadata": {},
   "outputs": [],
   "source": [
    "# calculate correlation between ECv and TGR, and plot distribution\n",
    "def corrplot(data_ecv, data_drug_name, list_tgr_d28):\n",
    "    list_corr_ = []\n",
    "    for d, i in itertools.product(range(len(data_drug_name['drug_name'])), range(len(data_ecv))):\n",
    "        # array tumor growth rate\n",
    "        array_tgr = np.array(list_tgr_d28[d], dtype='float64').reshape(\n",
    "            10,)  # drug 0~6 → 1\n",
    "        # array ecv\n",
    "        array_ecv = np.array(\n",
    "            data_ecv.iloc[i, 2:], dtype='float64')  # ecv 0~78858 → 1\n",
    "        # corr\n",
    "        corr = np.corrcoef(array_tgr, array_ecv)[0, 1]\n",
    "        # append\n",
    "        list_corr_.append(corr)\n",
    "    #reshape\n",
    "    list_corr = np.array(list_corr_).reshape(len(data_drug_name['drug_name']), -1)\n",
    "    print(f'[CAL]: correlation between ECv and TGR, shape:{list_corr.shape}')\n",
    "\n",
    "    #for l in range(len(list_corr)):\n",
    "        # (Cetuximab, Oxaliplatin, Irinotecan) = (green, blue, red)\n",
    "        #colorlist = [\"#999999\", \"#9BC99B\", \"#3FBF3F\", \"#9BA7C9\", \"#3F5FBF\", \"#D88C8C\", \"#BF3F3F\"]\n",
    "        # plot\n",
    "        #plt.figure(figsize=(30, 15))\n",
    "        #plt.rcParams[\"font.family\"] = 'sans-serif'\n",
    "        #plt.rcParams['font.size'] = 25\n",
    "        #plt.title(f'Distribution of Correlation Coefficients [{data_drug_name[\"drug_name\"][l]}]', fontsize=30)\n",
    "        #plt.xlabel('Correlation coefficients between tumor growth rate [day28] and every ECv', fontsize=25)\n",
    "        #plt.ylabel('Count', fontsize=25)\n",
    "        #sns.distplot(list_corr[l], color=colorlist[l], kde=False)\n",
    "        # save\n",
    "        #savepath = f'./result/fig/IDEA1_2/fig_corrplot_{data_drug_name[\"drug_name\"][l]}.png'\n",
    "        #plt.savefig(savepath, dpi=300, format='png', bbox_inches=\"tight\")\n",
    "        #print(f'[SAVE]: {savepath}')\n",
    "    return list_corr\n",
    "\n",
    "list_corr = corrplot(data_ecv, data_drug_name, list_tgr_d28)"
   ]
  },
  {
   "cell_type": "code",
   "execution_count": 13,
   "metadata": {},
   "outputs": [
    {
     "output_type": "stream",
     "name": "stdout",
     "text": [
      "[CAL]: correlation between ECv and TGR, shape:(7, 78859)\n"
     ]
    }
   ],
   "source": [
    "print(f'[CAL]: correlation between ECv and TGR, shape:{list_corr.shape}')"
   ]
  },
  {
   "cell_type": "code",
   "execution_count": 15,
   "metadata": {},
   "outputs": [
    {
     "output_type": "execute_result",
     "data": {
      "text/plain": [
       "45797"
      ]
     },
     "metadata": {},
     "execution_count": 15
    }
   ],
   "source": [
    "ecv_index = list(list_corr[1]).index(max(list_corr[1]))\n",
    "ecv_index\n"
   ]
  },
  {
   "cell_type": "code",
   "execution_count": 16,
   "metadata": {},
   "outputs": [
    {
     "output_type": "execute_result",
     "data": {
      "text/plain": [
       "'SGK223'"
      ]
     },
     "metadata": {},
     "execution_count": 16
    }
   ],
   "source": [
    "parent = data_ecv.iloc[ecv_index, :2][0]\n",
    "parent"
   ]
  },
  {
   "cell_type": "code",
   "execution_count": 22,
   "metadata": {},
   "outputs": [
    {
     "output_type": "execute_result",
     "data": {
      "text/plain": [
       "'ITGA7'"
      ]
     },
     "metadata": {},
     "execution_count": 22
    }
   ],
   "source": [
    "data_ecv.iloc[0, :2][0]"
   ]
  },
  {
   "cell_type": "code",
   "execution_count": 20,
   "metadata": {},
   "outputs": [
    {
     "output_type": "execute_result",
     "data": {
      "text/plain": [
       "                                   Parent                             Child\n",
       "0                                   ITGA7                            A23747\n",
       "1                                     AXL                            A23747\n",
       "2                                   AP1M2                            A23747\n",
       "3                                  SLAMF1                            A23747\n",
       "4                                   FBLN1                            A23747\n",
       "...                                   ...                               ...\n",
       "78854                              NACAP1  lincRNA:chrX:97546119-97657219_F\n",
       "78855  lincRNA:chr2:107293518-107358418_R  lincRNA:chrX:97546119-97657219_F\n",
       "78856                        A_24_P126691  lincRNA:chrX:97546119-97657219_R\n",
       "78857                             C1orf43  lincRNA:chrX:97546119-97657219_R\n",
       "78858  lincRNA:chr2:107293518-107358418_F  lincRNA:chrX:97546119-97657219_R\n",
       "\n",
       "[78859 rows x 2 columns]"
      ],
      "text/html": "<div>\n<style scoped>\n    .dataframe tbody tr th:only-of-type {\n        vertical-align: middle;\n    }\n\n    .dataframe tbody tr th {\n        vertical-align: top;\n    }\n\n    .dataframe thead th {\n        text-align: right;\n    }\n</style>\n<table border=\"1\" class=\"dataframe\">\n  <thead>\n    <tr style=\"text-align: right;\">\n      <th></th>\n      <th>Parent</th>\n      <th>Child</th>\n    </tr>\n  </thead>\n  <tbody>\n    <tr>\n      <th>0</th>\n      <td>ITGA7</td>\n      <td>A23747</td>\n    </tr>\n    <tr>\n      <th>1</th>\n      <td>AXL</td>\n      <td>A23747</td>\n    </tr>\n    <tr>\n      <th>2</th>\n      <td>AP1M2</td>\n      <td>A23747</td>\n    </tr>\n    <tr>\n      <th>3</th>\n      <td>SLAMF1</td>\n      <td>A23747</td>\n    </tr>\n    <tr>\n      <th>4</th>\n      <td>FBLN1</td>\n      <td>A23747</td>\n    </tr>\n    <tr>\n      <th>...</th>\n      <td>...</td>\n      <td>...</td>\n    </tr>\n    <tr>\n      <th>78854</th>\n      <td>NACAP1</td>\n      <td>lincRNA:chrX:97546119-97657219_F</td>\n    </tr>\n    <tr>\n      <th>78855</th>\n      <td>lincRNA:chr2:107293518-107358418_R</td>\n      <td>lincRNA:chrX:97546119-97657219_F</td>\n    </tr>\n    <tr>\n      <th>78856</th>\n      <td>A_24_P126691</td>\n      <td>lincRNA:chrX:97546119-97657219_R</td>\n    </tr>\n    <tr>\n      <th>78857</th>\n      <td>C1orf43</td>\n      <td>lincRNA:chrX:97546119-97657219_R</td>\n    </tr>\n    <tr>\n      <th>78858</th>\n      <td>lincRNA:chr2:107293518-107358418_F</td>\n      <td>lincRNA:chrX:97546119-97657219_R</td>\n    </tr>\n  </tbody>\n</table>\n<p>78859 rows × 2 columns</p>\n</div>"
     },
     "metadata": {},
     "execution_count": 20
    }
   ],
   "source": [
    "data_ecv.iloc[:, :2]"
   ]
  },
  {
   "cell_type": "code",
   "execution_count": 18,
   "metadata": {},
   "outputs": [
    {
     "output_type": "execute_result",
     "data": {
      "text/plain": [
       "                                   Parent                             Child  \\\n",
       "0                                   ITGA7                            A23747   \n",
       "1                                     AXL                            A23747   \n",
       "2                                   AP1M2                            A23747   \n",
       "3                                  SLAMF1                            A23747   \n",
       "4                                   FBLN1                            A23747   \n",
       "...                                   ...                               ...   \n",
       "78854                              NACAP1  lincRNA:chrX:97546119-97657219_F   \n",
       "78855  lincRNA:chr2:107293518-107358418_R  lincRNA:chrX:97546119-97657219_F   \n",
       "78856                        A_24_P126691  lincRNA:chrX:97546119-97657219_R   \n",
       "78857                             C1orf43  lincRNA:chrX:97546119-97657219_R   \n",
       "78858  lincRNA:chr2:107293518-107358418_F  lincRNA:chrX:97546119-97657219_R   \n",
       "\n",
       "       ECv:C97-float:8  ECv:C166-float:21  ECv:C86-float:17  ECv:C111-foat:18  \\\n",
       "0             6.594815           6.345684          6.332206          6.537262   \n",
       "1            -0.047771          -0.039535         -0.015503         -0.028371   \n",
       "2            -0.392876           0.091723         -0.200845         -0.231564   \n",
       "3             0.129603          -0.259722         -0.175755          0.067454   \n",
       "4            -0.178458          -0.196188         -0.124905         -0.170777   \n",
       "...                ...                ...               ...               ...   \n",
       "78854         0.122925          -0.000558         -0.144826         -0.103876   \n",
       "78855         0.009782           0.054173         -0.227011          0.016717   \n",
       "78856        12.492665          12.495724         12.495261         12.496654   \n",
       "78857         0.040848           0.031341          0.047562          0.029576   \n",
       "78858         0.497158           0.243684          0.464583          0.148101   \n",
       "\n",
       "       ECv:C45-float:5  ECv:C48-float:6  ECv:C138-float:20  ECv:CB3-float:22  \\\n",
       "0             6.373183         6.657370           6.412025          6.539362   \n",
       "1            -0.032229        -0.068649          -0.015117          0.059047   \n",
       "2            -0.265686        -0.224587          -0.127154         -0.075489   \n",
       "3            -0.788439        -0.312984          -0.299465         -0.210768   \n",
       "4            -0.081411        -0.161160          -0.134623          0.302383   \n",
       "...                ...              ...                ...               ...   \n",
       "78854         0.001169         0.086230          -0.059603          0.053983   \n",
       "78855        -0.042315         0.107339           0.158652          0.257222   \n",
       "78856        12.493486        12.494454          12.497193         12.503603   \n",
       "78857         0.048071        -0.001850           0.039658          0.040479   \n",
       "78858         0.188281         0.352963           0.680698          0.602094   \n",
       "\n",
       "       ECv:C75-float:7  ECv:C132-float:19  \n",
       "0             6.445698           6.374509  \n",
       "1            -0.061376          -0.008655  \n",
       "2            -0.166920          -0.368507  \n",
       "3            -0.430493           0.224160  \n",
       "4            -0.153786          -0.150178  \n",
       "...                ...                ...  \n",
       "78854         0.258925          -0.065045  \n",
       "78855         0.384503           0.093524  \n",
       "78856        12.505451          12.498717  \n",
       "78857         0.053610           0.055074  \n",
       "78858         0.732574           0.474960  \n",
       "\n",
       "[78859 rows x 12 columns]"
      ],
      "text/html": "<div>\n<style scoped>\n    .dataframe tbody tr th:only-of-type {\n        vertical-align: middle;\n    }\n\n    .dataframe tbody tr th {\n        vertical-align: top;\n    }\n\n    .dataframe thead th {\n        text-align: right;\n    }\n</style>\n<table border=\"1\" class=\"dataframe\">\n  <thead>\n    <tr style=\"text-align: right;\">\n      <th></th>\n      <th>Parent</th>\n      <th>Child</th>\n      <th>ECv:C97-float:8</th>\n      <th>ECv:C166-float:21</th>\n      <th>ECv:C86-float:17</th>\n      <th>ECv:C111-foat:18</th>\n      <th>ECv:C45-float:5</th>\n      <th>ECv:C48-float:6</th>\n      <th>ECv:C138-float:20</th>\n      <th>ECv:CB3-float:22</th>\n      <th>ECv:C75-float:7</th>\n      <th>ECv:C132-float:19</th>\n    </tr>\n  </thead>\n  <tbody>\n    <tr>\n      <th>0</th>\n      <td>ITGA7</td>\n      <td>A23747</td>\n      <td>6.594815</td>\n      <td>6.345684</td>\n      <td>6.332206</td>\n      <td>6.537262</td>\n      <td>6.373183</td>\n      <td>6.657370</td>\n      <td>6.412025</td>\n      <td>6.539362</td>\n      <td>6.445698</td>\n      <td>6.374509</td>\n    </tr>\n    <tr>\n      <th>1</th>\n      <td>AXL</td>\n      <td>A23747</td>\n      <td>-0.047771</td>\n      <td>-0.039535</td>\n      <td>-0.015503</td>\n      <td>-0.028371</td>\n      <td>-0.032229</td>\n      <td>-0.068649</td>\n      <td>-0.015117</td>\n      <td>0.059047</td>\n      <td>-0.061376</td>\n      <td>-0.008655</td>\n    </tr>\n    <tr>\n      <th>2</th>\n      <td>AP1M2</td>\n      <td>A23747</td>\n      <td>-0.392876</td>\n      <td>0.091723</td>\n      <td>-0.200845</td>\n      <td>-0.231564</td>\n      <td>-0.265686</td>\n      <td>-0.224587</td>\n      <td>-0.127154</td>\n      <td>-0.075489</td>\n      <td>-0.166920</td>\n      <td>-0.368507</td>\n    </tr>\n    <tr>\n      <th>3</th>\n      <td>SLAMF1</td>\n      <td>A23747</td>\n      <td>0.129603</td>\n      <td>-0.259722</td>\n      <td>-0.175755</td>\n      <td>0.067454</td>\n      <td>-0.788439</td>\n      <td>-0.312984</td>\n      <td>-0.299465</td>\n      <td>-0.210768</td>\n      <td>-0.430493</td>\n      <td>0.224160</td>\n    </tr>\n    <tr>\n      <th>4</th>\n      <td>FBLN1</td>\n      <td>A23747</td>\n      <td>-0.178458</td>\n      <td>-0.196188</td>\n      <td>-0.124905</td>\n      <td>-0.170777</td>\n      <td>-0.081411</td>\n      <td>-0.161160</td>\n      <td>-0.134623</td>\n      <td>0.302383</td>\n      <td>-0.153786</td>\n      <td>-0.150178</td>\n    </tr>\n    <tr>\n      <th>...</th>\n      <td>...</td>\n      <td>...</td>\n      <td>...</td>\n      <td>...</td>\n      <td>...</td>\n      <td>...</td>\n      <td>...</td>\n      <td>...</td>\n      <td>...</td>\n      <td>...</td>\n      <td>...</td>\n      <td>...</td>\n    </tr>\n    <tr>\n      <th>78854</th>\n      <td>NACAP1</td>\n      <td>lincRNA:chrX:97546119-97657219_F</td>\n      <td>0.122925</td>\n      <td>-0.000558</td>\n      <td>-0.144826</td>\n      <td>-0.103876</td>\n      <td>0.001169</td>\n      <td>0.086230</td>\n      <td>-0.059603</td>\n      <td>0.053983</td>\n      <td>0.258925</td>\n      <td>-0.065045</td>\n    </tr>\n    <tr>\n      <th>78855</th>\n      <td>lincRNA:chr2:107293518-107358418_R</td>\n      <td>lincRNA:chrX:97546119-97657219_F</td>\n      <td>0.009782</td>\n      <td>0.054173</td>\n      <td>-0.227011</td>\n      <td>0.016717</td>\n      <td>-0.042315</td>\n      <td>0.107339</td>\n      <td>0.158652</td>\n      <td>0.257222</td>\n      <td>0.384503</td>\n      <td>0.093524</td>\n    </tr>\n    <tr>\n      <th>78856</th>\n      <td>A_24_P126691</td>\n      <td>lincRNA:chrX:97546119-97657219_R</td>\n      <td>12.492665</td>\n      <td>12.495724</td>\n      <td>12.495261</td>\n      <td>12.496654</td>\n      <td>12.493486</td>\n      <td>12.494454</td>\n      <td>12.497193</td>\n      <td>12.503603</td>\n      <td>12.505451</td>\n      <td>12.498717</td>\n    </tr>\n    <tr>\n      <th>78857</th>\n      <td>C1orf43</td>\n      <td>lincRNA:chrX:97546119-97657219_R</td>\n      <td>0.040848</td>\n      <td>0.031341</td>\n      <td>0.047562</td>\n      <td>0.029576</td>\n      <td>0.048071</td>\n      <td>-0.001850</td>\n      <td>0.039658</td>\n      <td>0.040479</td>\n      <td>0.053610</td>\n      <td>0.055074</td>\n    </tr>\n    <tr>\n      <th>78858</th>\n      <td>lincRNA:chr2:107293518-107358418_F</td>\n      <td>lincRNA:chrX:97546119-97657219_R</td>\n      <td>0.497158</td>\n      <td>0.243684</td>\n      <td>0.464583</td>\n      <td>0.148101</td>\n      <td>0.188281</td>\n      <td>0.352963</td>\n      <td>0.680698</td>\n      <td>0.602094</td>\n      <td>0.732574</td>\n      <td>0.474960</td>\n    </tr>\n  </tbody>\n</table>\n<p>78859 rows × 12 columns</p>\n</div>"
     },
     "metadata": {},
     "execution_count": 18
    }
   ],
   "source": [
    "data_ecv"
   ]
  },
  {
   "cell_type": "code",
   "execution_count": 29,
   "metadata": {},
   "outputs": [
    {
     "output_type": "execute_result",
     "data": {
      "text/plain": [
       "ECv:C97-float:8      6.59482\n",
       "ECv:C166-float:21    6.34568\n",
       "ECv:C86-float:17     6.33221\n",
       "ECv:C111-foat:18     6.53726\n",
       "ECv:C45-float:5      6.37318\n",
       "ECv:C48-float:6      6.65737\n",
       "ECv:C138-float:20    6.41202\n",
       "ECv:CB3-float:22     6.53936\n",
       "ECv:C75-float:7       6.4457\n",
       "ECv:C132-float:19    6.37451\n",
       "Name: 0, dtype: object"
      ]
     },
     "metadata": {},
     "execution_count": 29
    }
   ],
   "source": [
    "data_ecv.iloc[0, 2:]"
   ]
  },
  {
   "cell_type": "code",
   "execution_count": 33,
   "metadata": {},
   "outputs": [
    {
     "output_type": "execute_result",
     "data": {
      "text/plain": [
       "0.325164599999999"
      ]
     },
     "metadata": {},
     "execution_count": 33
    }
   ],
   "source": [
    "ecv_max = data_ecv.iloc[0, 2:].max()\n",
    "ecv_min = data_ecv.iloc[0, 2:].min()\n",
    "ecv_diff = abs(ecv_max - ecv_min)"
   ]
  },
  {
   "cell_type": "code",
   "execution_count": 31,
   "metadata": {},
   "outputs": [
    {
     "output_type": "execute_result",
     "data": {
      "text/plain": [
       "6.3322057"
      ]
     },
     "metadata": {},
     "execution_count": 31
    }
   ],
   "source": []
  },
  {
   "cell_type": "code",
   "execution_count": null,
   "metadata": {},
   "outputs": [],
   "source": [
    "list_ecv_maxmin = []\n",
    "    ecv_max = data_ecv.iloc[0, 2:].max()\n",
    "    ecv_min = data_ecv.iloc[0, 2:].min()\n",
    "    ecv_maxmin = abs(ecv_max - ecv_min)"
   ]
  },
  {
   "cell_type": "code",
   "execution_count": 34,
   "metadata": {},
   "outputs": [
    {
     "output_type": "execute_result",
     "data": {
      "text/plain": [
       "78859"
      ]
     },
     "metadata": {},
     "execution_count": 34
    }
   ],
   "source": [
    "len(data_ecv)"
   ]
  },
  {
   "cell_type": "code",
   "execution_count": 36,
   "metadata": {},
   "outputs": [],
   "source": [
    "list_ecv_maxmin = []\n",
    "for i in range(len(data_ecv)):\n",
    "    ecv_max = data_ecv.iloc[i, 2:].max()\n",
    "    ecv_min = data_ecv.iloc[i, 2:].min()\n",
    "    ecv_maxmin = abs(ecv_max - ecv_min)\n",
    "    list_ecv_maxmin.append(ecv_maxmin)"
   ]
  },
  {
   "cell_type": "code",
   "execution_count": 38,
   "metadata": {},
   "outputs": [
    {
     "output_type": "execute_result",
     "data": {
      "text/plain": [
       "78859"
      ]
     },
     "metadata": {},
     "execution_count": 38
    }
   ],
   "source": [
    "len(list_ecv_maxmin)"
   ]
  },
  {
   "cell_type": "code",
   "execution_count": 40,
   "metadata": {},
   "outputs": [
    {
     "output_type": "execute_result",
     "data": {
      "text/plain": [
       "10.9838117"
      ]
     },
     "metadata": {},
     "execution_count": 40
    }
   ],
   "source": [
    "max(list_ecv_maxmin)"
   ]
  },
  {
   "cell_type": "code",
   "execution_count": 39,
   "metadata": {},
   "outputs": [
    {
     "output_type": "stream",
     "name": "stdout",
     "text": [
      "[SAVE]: ./result/fig/IDEA1_2/3_scatterplot_diff_maxmin_ecv/fig_scatterplot_diff_maxmin_ecv.png\n"
     ]
    },
    {
     "output_type": "display_data",
     "data": {
      "text/plain": "<Figure size 2160x1080 with 1 Axes>",
      "image/svg+xml": "<?xml version=\"1.0\" encoding=\"utf-8\" standalone=\"no\"?>\n<!DOCTYPE svg PUBLIC \"-//W3C//DTD SVG 1.1//EN\"\n  \"http://www.w3.org/Graphics/SVG/1.1/DTD/svg11.dtd\">\n<!-- Created with matplotlib (https://matplotlib.org/) -->\n<svg height=\"918.225pt\" version=\"1.1\" viewBox=\"0 0 1803.126563 918.225\" width=\"1803.126563pt\" xmlns=\"http://www.w3.org/2000/svg\" xmlns:xlink=\"http://www.w3.org/1999/xlink\">\n <metadata>\n  <rdf:RDF xmlns:cc=\"http://creativecommons.org/ns#\" xmlns:dc=\"http://purl.org/dc/elements/1.1/\" xmlns:rdf=\"http://www.w3.org/1999/02/22-rdf-syntax-ns#\">\n   <cc:Work>\n    <dc:type rdf:resource=\"http://purl.org/dc/dcmitype/StillImage\"/>\n    <dc:date>2021-01-19T04:46:46.340349</dc:date>\n    <dc:format>image/svg+xml</dc:format>\n    <dc:creator>\n     <cc:Agent>\n      <dc:title>Matplotlib v3.3.2, https://matplotlib.org/</dc:title>\n     </cc:Agent>\n    </dc:creator>\n   </cc:Work>\n  </rdf:RDF>\n </metadata>\n <defs>\n  <style type=\"text/css\">*{stroke-linecap:butt;stroke-linejoin:round;}</style>\n </defs>\n <g id=\"figure_1\">\n  <g id=\"patch_1\">\n   <path d=\"M 0 918.225 \nL 1803.126563 918.225 \nL 1803.126563 0 \nL 0 0 \nz\n\" style=\"fill:none;\"/>\n  </g>\n  <g id=\"axes_1\">\n   <g id=\"patch_2\">\n    <path d=\"M 121.926563 851.634375 \nL 1795.926563 851.634375 \nL 1795.926563 36.234375 \nL 121.926563 36.234375 \nz\n\" style=\"fill:#ffffff;\"/>\n   </g>\n   <g id=\"patch_3\">\n    <path clip-path=\"url(#p8f944dc2ec)\" d=\"M 198.017472 851.634375 \nL 228.453835 851.634375 \nL 228.453835 75.062946 \nL 198.017472 75.062946 \nz\n\" style=\"fill:#9bc99b;opacity:0.4;\"/>\n   </g>\n   <g id=\"patch_4\">\n    <path clip-path=\"url(#p8f944dc2ec)\" d=\"M 228.453835 851.634375 \nL 258.890199 851.634375 \nL 258.890199 374.629637 \nL 228.453835 374.629637 \nz\n\" style=\"fill:#9bc99b;opacity:0.4;\"/>\n   </g>\n   <g id=\"patch_5\">\n    <path clip-path=\"url(#p8f944dc2ec)\" d=\"M 258.890199 851.634375 \nL 289.326563 851.634375 \nL 289.326563 642.010276 \nL 258.890199 642.010276 \nz\n\" style=\"fill:#9bc99b;opacity:0.4;\"/>\n   </g>\n   <g id=\"patch_6\">\n    <path clip-path=\"url(#p8f944dc2ec)\" d=\"M 289.326563 851.634375 \nL 319.762926 851.634375 \nL 319.762926 766.10907 \nL 289.326563 766.10907 \nz\n\" style=\"fill:#9bc99b;opacity:0.4;\"/>\n   </g>\n   <g id=\"patch_7\">\n    <path clip-path=\"url(#p8f944dc2ec)\" d=\"M 319.762926 851.634375 \nL 350.19929 851.634375 \nL 350.19929 813.454917 \nL 319.762926 813.454917 \nz\n\" style=\"fill:#9bc99b;opacity:0.4;\"/>\n   </g>\n   <g id=\"patch_8\">\n    <path clip-path=\"url(#p8f944dc2ec)\" d=\"M 350.19929 851.634375 \nL 380.635653 851.634375 \nL 380.635653 832.824615 \nL 350.19929 832.824615 \nz\n\" style=\"fill:#9bc99b;opacity:0.4;\"/>\n   </g>\n   <g id=\"patch_9\">\n    <path clip-path=\"url(#p8f944dc2ec)\" d=\"M 380.635653 851.634375 \nL 411.072017 851.634375 \nL 411.072017 840.891866 \nL 380.635653 840.891866 \nz\n\" style=\"fill:#9bc99b;opacity:0.4;\"/>\n   </g>\n   <g id=\"patch_10\">\n    <path clip-path=\"url(#p8f944dc2ec)\" d=\"M 411.072017 851.634375 \nL 441.508381 851.634375 \nL 441.508381 845.495798 \nL 411.072017 845.495798 \nz\n\" style=\"fill:#9bc99b;opacity:0.4;\"/>\n   </g>\n   <g id=\"patch_11\">\n    <path clip-path=\"url(#p8f944dc2ec)\" d=\"M 441.508381 851.634375 \nL 471.944744 851.634375 \nL 471.944744 847.963672 \nL 441.508381 847.963672 \nz\n\" style=\"fill:#9bc99b;opacity:0.4;\"/>\n   </g>\n   <g id=\"patch_12\">\n    <path clip-path=\"url(#p8f944dc2ec)\" d=\"M 471.944744 851.634375 \nL 502.381108 851.634375 \nL 502.381108 849.290932 \nL 471.944744 849.290932 \nz\n\" style=\"fill:#9bc99b;opacity:0.4;\"/>\n   </g>\n   <g id=\"patch_13\">\n    <path clip-path=\"url(#p8f944dc2ec)\" d=\"M 502.381108 851.634375 \nL 532.817472 851.634375 \nL 532.817472 849.684962 \nL 502.381108 849.684962 \nz\n\" style=\"fill:#9bc99b;opacity:0.4;\"/>\n   </g>\n   <g id=\"patch_14\">\n    <path clip-path=\"url(#p8f944dc2ec)\" d=\"M 532.817472 851.634375 \nL 563.253835 851.634375 \nL 563.253835 850.555976 \nL 532.817472 850.555976 \nz\n\" style=\"fill:#9bc99b;opacity:0.4;\"/>\n   </g>\n   <g id=\"patch_15\">\n    <path clip-path=\"url(#p8f944dc2ec)\" d=\"M 563.253835 851.634375 \nL 593.690199 851.634375 \nL 593.690199 851.157391 \nL 563.253835 851.157391 \nz\n\" style=\"fill:#9bc99b;opacity:0.4;\"/>\n   </g>\n   <g id=\"patch_16\">\n    <path clip-path=\"url(#p8f944dc2ec)\" d=\"M 593.690199 851.634375 \nL 624.126562 851.634375 \nL 624.126562 851.012222 \nL 593.690199 851.012222 \nz\n\" style=\"fill:#9bc99b;opacity:0.4;\"/>\n   </g>\n   <g id=\"patch_17\">\n    <path clip-path=\"url(#p8f944dc2ec)\" d=\"M 624.126562 851.634375 \nL 654.562926 851.634375 \nL 654.562926 851.03296 \nL 624.126562 851.03296 \nz\n\" style=\"fill:#9bc99b;opacity:0.4;\"/>\n   </g>\n   <g id=\"patch_18\">\n    <path clip-path=\"url(#p8f944dc2ec)\" d=\"M 654.562926 851.634375 \nL 684.99929 851.634375 \nL 684.99929 851.406252 \nL 654.562926 851.406252 \nz\n\" style=\"fill:#9bc99b;opacity:0.4;\"/>\n   </g>\n   <g id=\"patch_19\">\n    <path clip-path=\"url(#p8f944dc2ec)\" d=\"M 684.99929 851.634375 \nL 715.435653 851.634375 \nL 715.435653 851.426991 \nL 684.99929 851.426991 \nz\n\" style=\"fill:#9bc99b;opacity:0.4;\"/>\n   </g>\n   <g id=\"patch_20\">\n    <path clip-path=\"url(#p8f944dc2ec)\" d=\"M 715.435653 851.634375 \nL 745.872017 851.634375 \nL 745.872017 851.364775 \nL 715.435653 851.364775 \nz\n\" style=\"fill:#9bc99b;opacity:0.4;\"/>\n   </g>\n   <g id=\"patch_21\">\n    <path clip-path=\"url(#p8f944dc2ec)\" d=\"M 745.872017 851.634375 \nL 776.308381 851.634375 \nL 776.308381 851.385514 \nL 745.872017 851.385514 \nz\n\" style=\"fill:#9bc99b;opacity:0.4;\"/>\n   </g>\n   <g id=\"patch_22\">\n    <path clip-path=\"url(#p8f944dc2ec)\" d=\"M 776.308381 851.634375 \nL 806.744744 851.634375 \nL 806.744744 851.385514 \nL 776.308381 851.385514 \nz\n\" style=\"fill:#9bc99b;opacity:0.4;\"/>\n   </g>\n   <g id=\"patch_23\">\n    <path clip-path=\"url(#p8f944dc2ec)\" d=\"M 806.744744 851.634375 \nL 837.181108 851.634375 \nL 837.181108 851.509944 \nL 806.744744 851.509944 \nz\n\" style=\"fill:#9bc99b;opacity:0.4;\"/>\n   </g>\n   <g id=\"patch_24\">\n    <path clip-path=\"url(#p8f944dc2ec)\" d=\"M 837.181108 851.634375 \nL 867.617472 851.634375 \nL 867.617472 851.551421 \nL 837.181108 851.551421 \nz\n\" style=\"fill:#9bc99b;opacity:0.4;\"/>\n   </g>\n   <g id=\"patch_25\">\n    <path clip-path=\"url(#p8f944dc2ec)\" d=\"M 867.617472 851.634375 \nL 898.053835 851.634375 \nL 898.053835 851.468468 \nL 867.617472 851.468468 \nz\n\" style=\"fill:#9bc99b;opacity:0.4;\"/>\n   </g>\n   <g id=\"patch_26\">\n    <path clip-path=\"url(#p8f944dc2ec)\" d=\"M 898.053835 851.634375 \nL 928.490199 851.634375 \nL 928.490199 851.57216 \nL 898.053835 851.57216 \nz\n\" style=\"fill:#9bc99b;opacity:0.4;\"/>\n   </g>\n   <g id=\"patch_27\">\n    <path clip-path=\"url(#p8f944dc2ec)\" d=\"M 928.490199 851.634375 \nL 958.926562 851.634375 \nL 958.926562 851.509944 \nL 928.490199 851.509944 \nz\n\" style=\"fill:#9bc99b;opacity:0.4;\"/>\n   </g>\n   <g id=\"patch_28\">\n    <path clip-path=\"url(#p8f944dc2ec)\" d=\"M 958.926562 851.634375 \nL 989.362926 851.634375 \nL 989.362926 851.530683 \nL 958.926562 851.530683 \nz\n\" style=\"fill:#9bc99b;opacity:0.4;\"/>\n   </g>\n   <g id=\"patch_29\">\n    <path clip-path=\"url(#p8f944dc2ec)\" d=\"M 989.362926 851.634375 \nL 1019.79929 851.634375 \nL 1019.79929 851.634375 \nL 989.362926 851.634375 \nz\n\" style=\"fill:#9bc99b;opacity:0.4;\"/>\n   </g>\n   <g id=\"patch_30\">\n    <path clip-path=\"url(#p8f944dc2ec)\" d=\"M 1019.79929 851.634375 \nL 1050.235653 851.634375 \nL 1050.235653 851.634375 \nL 1019.79929 851.634375 \nz\n\" style=\"fill:#9bc99b;opacity:0.4;\"/>\n   </g>\n   <g id=\"patch_31\">\n    <path clip-path=\"url(#p8f944dc2ec)\" d=\"M 1050.235653 851.634375 \nL 1080.672017 851.634375 \nL 1080.672017 851.592898 \nL 1050.235653 851.592898 \nz\n\" style=\"fill:#9bc99b;opacity:0.4;\"/>\n   </g>\n   <g id=\"patch_32\">\n    <path clip-path=\"url(#p8f944dc2ec)\" d=\"M 1080.672017 851.634375 \nL 1111.108381 851.634375 \nL 1111.108381 851.634375 \nL 1080.672017 851.634375 \nz\n\" style=\"fill:#9bc99b;opacity:0.4;\"/>\n   </g>\n   <g id=\"patch_33\">\n    <path clip-path=\"url(#p8f944dc2ec)\" d=\"M 1111.108381 851.634375 \nL 1141.544744 851.634375 \nL 1141.544744 851.634375 \nL 1111.108381 851.634375 \nz\n\" style=\"fill:#9bc99b;opacity:0.4;\"/>\n   </g>\n   <g id=\"patch_34\">\n    <path clip-path=\"url(#p8f944dc2ec)\" d=\"M 1141.544744 851.634375 \nL 1171.981108 851.634375 \nL 1171.981108 851.634375 \nL 1141.544744 851.634375 \nz\n\" style=\"fill:#9bc99b;opacity:0.4;\"/>\n   </g>\n   <g id=\"patch_35\">\n    <path clip-path=\"url(#p8f944dc2ec)\" d=\"M 1171.981108 851.634375 \nL 1202.417472 851.634375 \nL 1202.417472 851.592898 \nL 1171.981108 851.592898 \nz\n\" style=\"fill:#9bc99b;opacity:0.4;\"/>\n   </g>\n   <g id=\"patch_36\">\n    <path clip-path=\"url(#p8f944dc2ec)\" d=\"M 1202.417472 851.634375 \nL 1232.853835 851.634375 \nL 1232.853835 851.592898 \nL 1202.417472 851.592898 \nz\n\" style=\"fill:#9bc99b;opacity:0.4;\"/>\n   </g>\n   <g id=\"patch_37\">\n    <path clip-path=\"url(#p8f944dc2ec)\" d=\"M 1232.853835 851.634375 \nL 1263.290199 851.634375 \nL 1263.290199 851.613637 \nL 1232.853835 851.613637 \nz\n\" style=\"fill:#9bc99b;opacity:0.4;\"/>\n   </g>\n   <g id=\"patch_38\">\n    <path clip-path=\"url(#p8f944dc2ec)\" d=\"M 1263.290199 851.634375 \nL 1293.726562 851.634375 \nL 1293.726562 851.613637 \nL 1263.290199 851.613637 \nz\n\" style=\"fill:#9bc99b;opacity:0.4;\"/>\n   </g>\n   <g id=\"patch_39\">\n    <path clip-path=\"url(#p8f944dc2ec)\" d=\"M 1293.726562 851.634375 \nL 1324.162926 851.634375 \nL 1324.162926 851.634375 \nL 1293.726562 851.634375 \nz\n\" style=\"fill:#9bc99b;opacity:0.4;\"/>\n   </g>\n   <g id=\"patch_40\">\n    <path clip-path=\"url(#p8f944dc2ec)\" d=\"M 1324.162926 851.634375 \nL 1354.59929 851.634375 \nL 1354.59929 851.634375 \nL 1324.162926 851.634375 \nz\n\" style=\"fill:#9bc99b;opacity:0.4;\"/>\n   </g>\n   <g id=\"patch_41\">\n    <path clip-path=\"url(#p8f944dc2ec)\" d=\"M 1354.59929 851.634375 \nL 1385.035653 851.634375 \nL 1385.035653 851.634375 \nL 1354.59929 851.634375 \nz\n\" style=\"fill:#9bc99b;opacity:0.4;\"/>\n   </g>\n   <g id=\"patch_42\">\n    <path clip-path=\"url(#p8f944dc2ec)\" d=\"M 1385.035653 851.634375 \nL 1415.472017 851.634375 \nL 1415.472017 851.634375 \nL 1385.035653 851.634375 \nz\n\" style=\"fill:#9bc99b;opacity:0.4;\"/>\n   </g>\n   <g id=\"patch_43\">\n    <path clip-path=\"url(#p8f944dc2ec)\" d=\"M 1415.472017 851.634375 \nL 1445.908381 851.634375 \nL 1445.908381 851.634375 \nL 1415.472017 851.634375 \nz\n\" style=\"fill:#9bc99b;opacity:0.4;\"/>\n   </g>\n   <g id=\"patch_44\">\n    <path clip-path=\"url(#p8f944dc2ec)\" d=\"M 1445.908381 851.634375 \nL 1476.344744 851.634375 \nL 1476.344744 851.634375 \nL 1445.908381 851.634375 \nz\n\" style=\"fill:#9bc99b;opacity:0.4;\"/>\n   </g>\n   <g id=\"patch_45\">\n    <path clip-path=\"url(#p8f944dc2ec)\" d=\"M 1476.344744 851.634375 \nL 1506.781108 851.634375 \nL 1506.781108 851.634375 \nL 1476.344744 851.634375 \nz\n\" style=\"fill:#9bc99b;opacity:0.4;\"/>\n   </g>\n   <g id=\"patch_46\">\n    <path clip-path=\"url(#p8f944dc2ec)\" d=\"M 1506.781108 851.634375 \nL 1537.217472 851.634375 \nL 1537.217472 851.634375 \nL 1506.781108 851.634375 \nz\n\" style=\"fill:#9bc99b;opacity:0.4;\"/>\n   </g>\n   <g id=\"patch_47\">\n    <path clip-path=\"url(#p8f944dc2ec)\" d=\"M 1537.217472 851.634375 \nL 1567.653835 851.634375 \nL 1567.653835 851.634375 \nL 1537.217472 851.634375 \nz\n\" style=\"fill:#9bc99b;opacity:0.4;\"/>\n   </g>\n   <g id=\"patch_48\">\n    <path clip-path=\"url(#p8f944dc2ec)\" d=\"M 1567.653835 851.634375 \nL 1598.090199 851.634375 \nL 1598.090199 851.613637 \nL 1567.653835 851.613637 \nz\n\" style=\"fill:#9bc99b;opacity:0.4;\"/>\n   </g>\n   <g id=\"patch_49\">\n    <path clip-path=\"url(#p8f944dc2ec)\" d=\"M 1598.090199 851.634375 \nL 1628.526562 851.634375 \nL 1628.526562 851.634375 \nL 1598.090199 851.634375 \nz\n\" style=\"fill:#9bc99b;opacity:0.4;\"/>\n   </g>\n   <g id=\"patch_50\">\n    <path clip-path=\"url(#p8f944dc2ec)\" d=\"M 1628.526562 851.634375 \nL 1658.962926 851.634375 \nL 1658.962926 851.634375 \nL 1628.526562 851.634375 \nz\n\" style=\"fill:#9bc99b;opacity:0.4;\"/>\n   </g>\n   <g id=\"patch_51\">\n    <path clip-path=\"url(#p8f944dc2ec)\" d=\"M 1658.962926 851.634375 \nL 1689.39929 851.634375 \nL 1689.39929 851.634375 \nL 1658.962926 851.634375 \nz\n\" style=\"fill:#9bc99b;opacity:0.4;\"/>\n   </g>\n   <g id=\"patch_52\">\n    <path clip-path=\"url(#p8f944dc2ec)\" d=\"M 1689.39929 851.634375 \nL 1719.835653 851.634375 \nL 1719.835653 851.613637 \nL 1689.39929 851.613637 \nz\n\" style=\"fill:#9bc99b;opacity:0.4;\"/>\n   </g>\n   <g id=\"matplotlib.axis_1\">\n    <g id=\"xtick_1\">\n     <g id=\"line2d_1\">\n      <defs>\n       <path d=\"M 0 0 \nL 0 3.5 \n\" id=\"mae2488e637\" style=\"stroke:#000000;stroke-width:0.8;\"/>\n      </defs>\n      <g>\n       <use style=\"stroke:#000000;stroke-width:0.8;\" x=\"197.997215\" xlink:href=\"#mae2488e637\" y=\"851.634375\"/>\n      </g>\n     </g>\n     <g id=\"text_1\">\n      <!-- 0 -->\n      <g transform=\"translate(190.04409 877.630469)scale(0.25 -0.25)\">\n       <defs>\n        <path d=\"M 31.78125 66.40625 \nQ 24.171875 66.40625 20.328125 58.90625 \nQ 16.5 51.421875 16.5 36.375 \nQ 16.5 21.390625 20.328125 13.890625 \nQ 24.171875 6.390625 31.78125 6.390625 \nQ 39.453125 6.390625 43.28125 13.890625 \nQ 47.125 21.390625 47.125 36.375 \nQ 47.125 51.421875 43.28125 58.90625 \nQ 39.453125 66.40625 31.78125 66.40625 \nz\nM 31.78125 74.21875 \nQ 44.046875 74.21875 50.515625 64.515625 \nQ 56.984375 54.828125 56.984375 36.375 \nQ 56.984375 17.96875 50.515625 8.265625 \nQ 44.046875 -1.421875 31.78125 -1.421875 \nQ 19.53125 -1.421875 13.0625 8.265625 \nQ 6.59375 17.96875 6.59375 36.375 \nQ 6.59375 54.828125 13.0625 64.515625 \nQ 19.53125 74.21875 31.78125 74.21875 \nz\n\" id=\"DejaVuSans-48\"/>\n       </defs>\n       <use xlink:href=\"#DejaVuSans-48\"/>\n      </g>\n     </g>\n    </g>\n    <g id=\"xtick_2\">\n     <g id=\"line2d_2\">\n      <g>\n       <use style=\"stroke:#000000;stroke-width:0.8;\" x=\"475.102919\" xlink:href=\"#mae2488e637\" y=\"851.634375\"/>\n      </g>\n     </g>\n     <g id=\"text_2\">\n      <!-- 2 -->\n      <g transform=\"translate(467.149794 877.630469)scale(0.25 -0.25)\">\n       <defs>\n        <path d=\"M 19.1875 8.296875 \nL 53.609375 8.296875 \nL 53.609375 0 \nL 7.328125 0 \nL 7.328125 8.296875 \nQ 12.9375 14.109375 22.625 23.890625 \nQ 32.328125 33.6875 34.8125 36.53125 \nQ 39.546875 41.84375 41.421875 45.53125 \nQ 43.3125 49.21875 43.3125 52.78125 \nQ 43.3125 58.59375 39.234375 62.25 \nQ 35.15625 65.921875 28.609375 65.921875 \nQ 23.96875 65.921875 18.8125 64.3125 \nQ 13.671875 62.703125 7.8125 59.421875 \nL 7.8125 69.390625 \nQ 13.765625 71.78125 18.9375 73 \nQ 24.125 74.21875 28.421875 74.21875 \nQ 39.75 74.21875 46.484375 68.546875 \nQ 53.21875 62.890625 53.21875 53.421875 \nQ 53.21875 48.921875 51.53125 44.890625 \nQ 49.859375 40.875 45.40625 35.40625 \nQ 44.1875 33.984375 37.640625 27.21875 \nQ 31.109375 20.453125 19.1875 8.296875 \nz\n\" id=\"DejaVuSans-50\"/>\n       </defs>\n       <use xlink:href=\"#DejaVuSans-50\"/>\n      </g>\n     </g>\n    </g>\n    <g id=\"xtick_3\">\n     <g id=\"line2d_3\">\n      <g>\n       <use style=\"stroke:#000000;stroke-width:0.8;\" x=\"752.208624\" xlink:href=\"#mae2488e637\" y=\"851.634375\"/>\n      </g>\n     </g>\n     <g id=\"text_3\">\n      <!-- 4 -->\n      <g transform=\"translate(744.255499 877.630469)scale(0.25 -0.25)\">\n       <defs>\n        <path d=\"M 37.796875 64.3125 \nL 12.890625 25.390625 \nL 37.796875 25.390625 \nz\nM 35.203125 72.90625 \nL 47.609375 72.90625 \nL 47.609375 25.390625 \nL 58.015625 25.390625 \nL 58.015625 17.1875 \nL 47.609375 17.1875 \nL 47.609375 0 \nL 37.796875 0 \nL 37.796875 17.1875 \nL 4.890625 17.1875 \nL 4.890625 26.703125 \nz\n\" id=\"DejaVuSans-52\"/>\n       </defs>\n       <use xlink:href=\"#DejaVuSans-52\"/>\n      </g>\n     </g>\n    </g>\n    <g id=\"xtick_4\">\n     <g id=\"line2d_4\">\n      <g>\n       <use style=\"stroke:#000000;stroke-width:0.8;\" x=\"1029.314328\" xlink:href=\"#mae2488e637\" y=\"851.634375\"/>\n      </g>\n     </g>\n     <g id=\"text_4\">\n      <!-- 6 -->\n      <g transform=\"translate(1021.361203 877.630469)scale(0.25 -0.25)\">\n       <defs>\n        <path d=\"M 33.015625 40.375 \nQ 26.375 40.375 22.484375 35.828125 \nQ 18.609375 31.296875 18.609375 23.390625 \nQ 18.609375 15.53125 22.484375 10.953125 \nQ 26.375 6.390625 33.015625 6.390625 \nQ 39.65625 6.390625 43.53125 10.953125 \nQ 47.40625 15.53125 47.40625 23.390625 \nQ 47.40625 31.296875 43.53125 35.828125 \nQ 39.65625 40.375 33.015625 40.375 \nz\nM 52.59375 71.296875 \nL 52.59375 62.3125 \nQ 48.875 64.0625 45.09375 64.984375 \nQ 41.3125 65.921875 37.59375 65.921875 \nQ 27.828125 65.921875 22.671875 59.328125 \nQ 17.53125 52.734375 16.796875 39.40625 \nQ 19.671875 43.65625 24.015625 45.921875 \nQ 28.375 48.1875 33.59375 48.1875 \nQ 44.578125 48.1875 50.953125 41.515625 \nQ 57.328125 34.859375 57.328125 23.390625 \nQ 57.328125 12.15625 50.6875 5.359375 \nQ 44.046875 -1.421875 33.015625 -1.421875 \nQ 20.359375 -1.421875 13.671875 8.265625 \nQ 6.984375 17.96875 6.984375 36.375 \nQ 6.984375 53.65625 15.1875 63.9375 \nQ 23.390625 74.21875 37.203125 74.21875 \nQ 40.921875 74.21875 44.703125 73.484375 \nQ 48.484375 72.75 52.59375 71.296875 \nz\n\" id=\"DejaVuSans-54\"/>\n       </defs>\n       <use xlink:href=\"#DejaVuSans-54\"/>\n      </g>\n     </g>\n    </g>\n    <g id=\"xtick_5\">\n     <g id=\"line2d_5\">\n      <g>\n       <use style=\"stroke:#000000;stroke-width:0.8;\" x=\"1306.420032\" xlink:href=\"#mae2488e637\" y=\"851.634375\"/>\n      </g>\n     </g>\n     <g id=\"text_5\">\n      <!-- 8 -->\n      <g transform=\"translate(1298.466907 877.630469)scale(0.25 -0.25)\">\n       <defs>\n        <path d=\"M 31.78125 34.625 \nQ 24.75 34.625 20.71875 30.859375 \nQ 16.703125 27.09375 16.703125 20.515625 \nQ 16.703125 13.921875 20.71875 10.15625 \nQ 24.75 6.390625 31.78125 6.390625 \nQ 38.8125 6.390625 42.859375 10.171875 \nQ 46.921875 13.96875 46.921875 20.515625 \nQ 46.921875 27.09375 42.890625 30.859375 \nQ 38.875 34.625 31.78125 34.625 \nz\nM 21.921875 38.8125 \nQ 15.578125 40.375 12.03125 44.71875 \nQ 8.5 49.078125 8.5 55.328125 \nQ 8.5 64.0625 14.71875 69.140625 \nQ 20.953125 74.21875 31.78125 74.21875 \nQ 42.671875 74.21875 48.875 69.140625 \nQ 55.078125 64.0625 55.078125 55.328125 \nQ 55.078125 49.078125 51.53125 44.71875 \nQ 48 40.375 41.703125 38.8125 \nQ 48.828125 37.15625 52.796875 32.3125 \nQ 56.78125 27.484375 56.78125 20.515625 \nQ 56.78125 9.90625 50.3125 4.234375 \nQ 43.84375 -1.421875 31.78125 -1.421875 \nQ 19.734375 -1.421875 13.25 4.234375 \nQ 6.78125 9.90625 6.78125 20.515625 \nQ 6.78125 27.484375 10.78125 32.3125 \nQ 14.796875 37.15625 21.921875 38.8125 \nz\nM 18.3125 54.390625 \nQ 18.3125 48.734375 21.84375 45.5625 \nQ 25.390625 42.390625 31.78125 42.390625 \nQ 38.140625 42.390625 41.71875 45.5625 \nQ 45.3125 48.734375 45.3125 54.390625 \nQ 45.3125 60.0625 41.71875 63.234375 \nQ 38.140625 66.40625 31.78125 66.40625 \nQ 25.390625 66.40625 21.84375 63.234375 \nQ 18.3125 60.0625 18.3125 54.390625 \nz\n\" id=\"DejaVuSans-56\"/>\n       </defs>\n       <use xlink:href=\"#DejaVuSans-56\"/>\n      </g>\n     </g>\n    </g>\n    <g id=\"xtick_6\">\n     <g id=\"line2d_6\">\n      <g>\n       <use style=\"stroke:#000000;stroke-width:0.8;\" x=\"1583.525736\" xlink:href=\"#mae2488e637\" y=\"851.634375\"/>\n      </g>\n     </g>\n     <g id=\"text_6\">\n      <!-- 10 -->\n      <g transform=\"translate(1567.619486 877.630469)scale(0.25 -0.25)\">\n       <defs>\n        <path d=\"M 12.40625 8.296875 \nL 28.515625 8.296875 \nL 28.515625 63.921875 \nL 10.984375 60.40625 \nL 10.984375 69.390625 \nL 28.421875 72.90625 \nL 38.28125 72.90625 \nL 38.28125 8.296875 \nL 54.390625 8.296875 \nL 54.390625 0 \nL 12.40625 0 \nz\n\" id=\"DejaVuSans-49\"/>\n       </defs>\n       <use xlink:href=\"#DejaVuSans-49\"/>\n       <use x=\"63.623047\" xlink:href=\"#DejaVuSans-48\"/>\n      </g>\n     </g>\n    </g>\n    <g id=\"text_7\">\n     <!-- difference between max-min value of ECv -->\n     <g transform=\"translate(696.539844 905.825781)scale(0.25 -0.25)\">\n      <defs>\n       <path d=\"M 45.40625 46.390625 \nL 45.40625 75.984375 \nL 54.390625 75.984375 \nL 54.390625 0 \nL 45.40625 0 \nL 45.40625 8.203125 \nQ 42.578125 3.328125 38.25 0.953125 \nQ 33.9375 -1.421875 27.875 -1.421875 \nQ 17.96875 -1.421875 11.734375 6.484375 \nQ 5.515625 14.40625 5.515625 27.296875 \nQ 5.515625 40.1875 11.734375 48.09375 \nQ 17.96875 56 27.875 56 \nQ 33.9375 56 38.25 53.625 \nQ 42.578125 51.265625 45.40625 46.390625 \nz\nM 14.796875 27.296875 \nQ 14.796875 17.390625 18.875 11.75 \nQ 22.953125 6.109375 30.078125 6.109375 \nQ 37.203125 6.109375 41.296875 11.75 \nQ 45.40625 17.390625 45.40625 27.296875 \nQ 45.40625 37.203125 41.296875 42.84375 \nQ 37.203125 48.484375 30.078125 48.484375 \nQ 22.953125 48.484375 18.875 42.84375 \nQ 14.796875 37.203125 14.796875 27.296875 \nz\n\" id=\"DejaVuSans-100\"/>\n       <path d=\"M 9.421875 54.6875 \nL 18.40625 54.6875 \nL 18.40625 0 \nL 9.421875 0 \nz\nM 9.421875 75.984375 \nL 18.40625 75.984375 \nL 18.40625 64.59375 \nL 9.421875 64.59375 \nz\n\" id=\"DejaVuSans-105\"/>\n       <path d=\"M 37.109375 75.984375 \nL 37.109375 68.5 \nL 28.515625 68.5 \nQ 23.6875 68.5 21.796875 66.546875 \nQ 19.921875 64.59375 19.921875 59.515625 \nL 19.921875 54.6875 \nL 34.71875 54.6875 \nL 34.71875 47.703125 \nL 19.921875 47.703125 \nL 19.921875 0 \nL 10.890625 0 \nL 10.890625 47.703125 \nL 2.296875 47.703125 \nL 2.296875 54.6875 \nL 10.890625 54.6875 \nL 10.890625 58.5 \nQ 10.890625 67.625 15.140625 71.796875 \nQ 19.390625 75.984375 28.609375 75.984375 \nz\n\" id=\"DejaVuSans-102\"/>\n       <path d=\"M 56.203125 29.59375 \nL 56.203125 25.203125 \nL 14.890625 25.203125 \nQ 15.484375 15.921875 20.484375 11.0625 \nQ 25.484375 6.203125 34.421875 6.203125 \nQ 39.59375 6.203125 44.453125 7.46875 \nQ 49.3125 8.734375 54.109375 11.28125 \nL 54.109375 2.78125 \nQ 49.265625 0.734375 44.1875 -0.34375 \nQ 39.109375 -1.421875 33.890625 -1.421875 \nQ 20.796875 -1.421875 13.15625 6.1875 \nQ 5.515625 13.8125 5.515625 26.8125 \nQ 5.515625 40.234375 12.765625 48.109375 \nQ 20.015625 56 32.328125 56 \nQ 43.359375 56 49.78125 48.890625 \nQ 56.203125 41.796875 56.203125 29.59375 \nz\nM 47.21875 32.234375 \nQ 47.125 39.59375 43.09375 43.984375 \nQ 39.0625 48.390625 32.421875 48.390625 \nQ 24.90625 48.390625 20.390625 44.140625 \nQ 15.875 39.890625 15.1875 32.171875 \nz\n\" id=\"DejaVuSans-101\"/>\n       <path d=\"M 41.109375 46.296875 \nQ 39.59375 47.171875 37.8125 47.578125 \nQ 36.03125 48 33.890625 48 \nQ 26.265625 48 22.1875 43.046875 \nQ 18.109375 38.09375 18.109375 28.8125 \nL 18.109375 0 \nL 9.078125 0 \nL 9.078125 54.6875 \nL 18.109375 54.6875 \nL 18.109375 46.1875 \nQ 20.953125 51.171875 25.484375 53.578125 \nQ 30.03125 56 36.53125 56 \nQ 37.453125 56 38.578125 55.875 \nQ 39.703125 55.765625 41.0625 55.515625 \nz\n\" id=\"DejaVuSans-114\"/>\n       <path d=\"M 54.890625 33.015625 \nL 54.890625 0 \nL 45.90625 0 \nL 45.90625 32.71875 \nQ 45.90625 40.484375 42.875 44.328125 \nQ 39.84375 48.1875 33.796875 48.1875 \nQ 26.515625 48.1875 22.3125 43.546875 \nQ 18.109375 38.921875 18.109375 30.90625 \nL 18.109375 0 \nL 9.078125 0 \nL 9.078125 54.6875 \nL 18.109375 54.6875 \nL 18.109375 46.1875 \nQ 21.34375 51.125 25.703125 53.5625 \nQ 30.078125 56 35.796875 56 \nQ 45.21875 56 50.046875 50.171875 \nQ 54.890625 44.34375 54.890625 33.015625 \nz\n\" id=\"DejaVuSans-110\"/>\n       <path d=\"M 48.78125 52.59375 \nL 48.78125 44.1875 \nQ 44.96875 46.296875 41.140625 47.34375 \nQ 37.3125 48.390625 33.40625 48.390625 \nQ 24.65625 48.390625 19.8125 42.84375 \nQ 14.984375 37.3125 14.984375 27.296875 \nQ 14.984375 17.28125 19.8125 11.734375 \nQ 24.65625 6.203125 33.40625 6.203125 \nQ 37.3125 6.203125 41.140625 7.25 \nQ 44.96875 8.296875 48.78125 10.40625 \nL 48.78125 2.09375 \nQ 45.015625 0.34375 40.984375 -0.53125 \nQ 36.96875 -1.421875 32.421875 -1.421875 \nQ 20.0625 -1.421875 12.78125 6.34375 \nQ 5.515625 14.109375 5.515625 27.296875 \nQ 5.515625 40.671875 12.859375 48.328125 \nQ 20.21875 56 33.015625 56 \nQ 37.15625 56 41.109375 55.140625 \nQ 45.0625 54.296875 48.78125 52.59375 \nz\n\" id=\"DejaVuSans-99\"/>\n       <path id=\"DejaVuSans-32\"/>\n       <path d=\"M 48.6875 27.296875 \nQ 48.6875 37.203125 44.609375 42.84375 \nQ 40.53125 48.484375 33.40625 48.484375 \nQ 26.265625 48.484375 22.1875 42.84375 \nQ 18.109375 37.203125 18.109375 27.296875 \nQ 18.109375 17.390625 22.1875 11.75 \nQ 26.265625 6.109375 33.40625 6.109375 \nQ 40.53125 6.109375 44.609375 11.75 \nQ 48.6875 17.390625 48.6875 27.296875 \nz\nM 18.109375 46.390625 \nQ 20.953125 51.265625 25.265625 53.625 \nQ 29.59375 56 35.59375 56 \nQ 45.5625 56 51.78125 48.09375 \nQ 58.015625 40.1875 58.015625 27.296875 \nQ 58.015625 14.40625 51.78125 6.484375 \nQ 45.5625 -1.421875 35.59375 -1.421875 \nQ 29.59375 -1.421875 25.265625 0.953125 \nQ 20.953125 3.328125 18.109375 8.203125 \nL 18.109375 0 \nL 9.078125 0 \nL 9.078125 75.984375 \nL 18.109375 75.984375 \nz\n\" id=\"DejaVuSans-98\"/>\n       <path d=\"M 18.3125 70.21875 \nL 18.3125 54.6875 \nL 36.8125 54.6875 \nL 36.8125 47.703125 \nL 18.3125 47.703125 \nL 18.3125 18.015625 \nQ 18.3125 11.328125 20.140625 9.421875 \nQ 21.96875 7.515625 27.59375 7.515625 \nL 36.8125 7.515625 \nL 36.8125 0 \nL 27.59375 0 \nQ 17.1875 0 13.234375 3.875 \nQ 9.28125 7.765625 9.28125 18.015625 \nL 9.28125 47.703125 \nL 2.6875 47.703125 \nL 2.6875 54.6875 \nL 9.28125 54.6875 \nL 9.28125 70.21875 \nz\n\" id=\"DejaVuSans-116\"/>\n       <path d=\"M 4.203125 54.6875 \nL 13.1875 54.6875 \nL 24.421875 12.015625 \nL 35.59375 54.6875 \nL 46.1875 54.6875 \nL 57.421875 12.015625 \nL 68.609375 54.6875 \nL 77.59375 54.6875 \nL 63.28125 0 \nL 52.6875 0 \nL 40.921875 44.828125 \nL 29.109375 0 \nL 18.5 0 \nz\n\" id=\"DejaVuSans-119\"/>\n       <path d=\"M 52 44.1875 \nQ 55.375 50.25 60.0625 53.125 \nQ 64.75 56 71.09375 56 \nQ 79.640625 56 84.28125 50.015625 \nQ 88.921875 44.046875 88.921875 33.015625 \nL 88.921875 0 \nL 79.890625 0 \nL 79.890625 32.71875 \nQ 79.890625 40.578125 77.09375 44.375 \nQ 74.3125 48.1875 68.609375 48.1875 \nQ 61.625 48.1875 57.5625 43.546875 \nQ 53.515625 38.921875 53.515625 30.90625 \nL 53.515625 0 \nL 44.484375 0 \nL 44.484375 32.71875 \nQ 44.484375 40.625 41.703125 44.40625 \nQ 38.921875 48.1875 33.109375 48.1875 \nQ 26.21875 48.1875 22.15625 43.53125 \nQ 18.109375 38.875 18.109375 30.90625 \nL 18.109375 0 \nL 9.078125 0 \nL 9.078125 54.6875 \nL 18.109375 54.6875 \nL 18.109375 46.1875 \nQ 21.1875 51.21875 25.484375 53.609375 \nQ 29.78125 56 35.6875 56 \nQ 41.65625 56 45.828125 52.96875 \nQ 50 49.953125 52 44.1875 \nz\n\" id=\"DejaVuSans-109\"/>\n       <path d=\"M 34.28125 27.484375 \nQ 23.390625 27.484375 19.1875 25 \nQ 14.984375 22.515625 14.984375 16.5 \nQ 14.984375 11.71875 18.140625 8.90625 \nQ 21.296875 6.109375 26.703125 6.109375 \nQ 34.1875 6.109375 38.703125 11.40625 \nQ 43.21875 16.703125 43.21875 25.484375 \nL 43.21875 27.484375 \nz\nM 52.203125 31.203125 \nL 52.203125 0 \nL 43.21875 0 \nL 43.21875 8.296875 \nQ 40.140625 3.328125 35.546875 0.953125 \nQ 30.953125 -1.421875 24.3125 -1.421875 \nQ 15.921875 -1.421875 10.953125 3.296875 \nQ 6 8.015625 6 15.921875 \nQ 6 25.140625 12.171875 29.828125 \nQ 18.359375 34.515625 30.609375 34.515625 \nL 43.21875 34.515625 \nL 43.21875 35.40625 \nQ 43.21875 41.609375 39.140625 45 \nQ 35.0625 48.390625 27.6875 48.390625 \nQ 23 48.390625 18.546875 47.265625 \nQ 14.109375 46.140625 10.015625 43.890625 \nL 10.015625 52.203125 \nQ 14.9375 54.109375 19.578125 55.046875 \nQ 24.21875 56 28.609375 56 \nQ 40.484375 56 46.34375 49.84375 \nQ 52.203125 43.703125 52.203125 31.203125 \nz\n\" id=\"DejaVuSans-97\"/>\n       <path d=\"M 54.890625 54.6875 \nL 35.109375 28.078125 \nL 55.90625 0 \nL 45.3125 0 \nL 29.390625 21.484375 \nL 13.484375 0 \nL 2.875 0 \nL 24.125 28.609375 \nL 4.6875 54.6875 \nL 15.28125 54.6875 \nL 29.78125 35.203125 \nL 44.28125 54.6875 \nz\n\" id=\"DejaVuSans-120\"/>\n       <path d=\"M 4.890625 31.390625 \nL 31.203125 31.390625 \nL 31.203125 23.390625 \nL 4.890625 23.390625 \nz\n\" id=\"DejaVuSans-45\"/>\n       <path d=\"M 2.984375 54.6875 \nL 12.5 54.6875 \nL 29.59375 8.796875 \nL 46.6875 54.6875 \nL 56.203125 54.6875 \nL 35.6875 0 \nL 23.484375 0 \nz\n\" id=\"DejaVuSans-118\"/>\n       <path d=\"M 9.421875 75.984375 \nL 18.40625 75.984375 \nL 18.40625 0 \nL 9.421875 0 \nz\n\" id=\"DejaVuSans-108\"/>\n       <path d=\"M 8.5 21.578125 \nL 8.5 54.6875 \nL 17.484375 54.6875 \nL 17.484375 21.921875 \nQ 17.484375 14.15625 20.5 10.265625 \nQ 23.53125 6.390625 29.59375 6.390625 \nQ 36.859375 6.390625 41.078125 11.03125 \nQ 45.3125 15.671875 45.3125 23.6875 \nL 45.3125 54.6875 \nL 54.296875 54.6875 \nL 54.296875 0 \nL 45.3125 0 \nL 45.3125 8.40625 \nQ 42.046875 3.421875 37.71875 1 \nQ 33.40625 -1.421875 27.6875 -1.421875 \nQ 18.265625 -1.421875 13.375 4.4375 \nQ 8.5 10.296875 8.5 21.578125 \nz\nM 31.109375 56 \nz\n\" id=\"DejaVuSans-117\"/>\n       <path d=\"M 30.609375 48.390625 \nQ 23.390625 48.390625 19.1875 42.75 \nQ 14.984375 37.109375 14.984375 27.296875 \nQ 14.984375 17.484375 19.15625 11.84375 \nQ 23.34375 6.203125 30.609375 6.203125 \nQ 37.796875 6.203125 41.984375 11.859375 \nQ 46.1875 17.53125 46.1875 27.296875 \nQ 46.1875 37.015625 41.984375 42.703125 \nQ 37.796875 48.390625 30.609375 48.390625 \nz\nM 30.609375 56 \nQ 42.328125 56 49.015625 48.375 \nQ 55.71875 40.765625 55.71875 27.296875 \nQ 55.71875 13.875 49.015625 6.21875 \nQ 42.328125 -1.421875 30.609375 -1.421875 \nQ 18.84375 -1.421875 12.171875 6.21875 \nQ 5.515625 13.875 5.515625 27.296875 \nQ 5.515625 40.765625 12.171875 48.375 \nQ 18.84375 56 30.609375 56 \nz\n\" id=\"DejaVuSans-111\"/>\n       <path d=\"M 9.8125 72.90625 \nL 55.90625 72.90625 \nL 55.90625 64.59375 \nL 19.671875 64.59375 \nL 19.671875 43.015625 \nL 54.390625 43.015625 \nL 54.390625 34.71875 \nL 19.671875 34.71875 \nL 19.671875 8.296875 \nL 56.78125 8.296875 \nL 56.78125 0 \nL 9.8125 0 \nz\n\" id=\"DejaVuSans-69\"/>\n       <path d=\"M 64.40625 67.28125 \nL 64.40625 56.890625 \nQ 59.421875 61.53125 53.78125 63.8125 \nQ 48.140625 66.109375 41.796875 66.109375 \nQ 29.296875 66.109375 22.65625 58.46875 \nQ 16.015625 50.828125 16.015625 36.375 \nQ 16.015625 21.96875 22.65625 14.328125 \nQ 29.296875 6.6875 41.796875 6.6875 \nQ 48.140625 6.6875 53.78125 8.984375 \nQ 59.421875 11.28125 64.40625 15.921875 \nL 64.40625 5.609375 \nQ 59.234375 2.09375 53.4375 0.328125 \nQ 47.65625 -1.421875 41.21875 -1.421875 \nQ 24.65625 -1.421875 15.125 8.703125 \nQ 5.609375 18.84375 5.609375 36.375 \nQ 5.609375 53.953125 15.125 64.078125 \nQ 24.65625 74.21875 41.21875 74.21875 \nQ 47.75 74.21875 53.53125 72.484375 \nQ 59.328125 70.75 64.40625 67.28125 \nz\n\" id=\"DejaVuSans-67\"/>\n      </defs>\n      <use xlink:href=\"#DejaVuSans-100\"/>\n      <use x=\"63.476562\" xlink:href=\"#DejaVuSans-105\"/>\n      <use x=\"91.259766\" xlink:href=\"#DejaVuSans-102\"/>\n      <use x=\"126.464844\" xlink:href=\"#DejaVuSans-102\"/>\n      <use x=\"161.669922\" xlink:href=\"#DejaVuSans-101\"/>\n      <use x=\"223.193359\" xlink:href=\"#DejaVuSans-114\"/>\n      <use x=\"262.056641\" xlink:href=\"#DejaVuSans-101\"/>\n      <use x=\"323.580078\" xlink:href=\"#DejaVuSans-110\"/>\n      <use x=\"386.958984\" xlink:href=\"#DejaVuSans-99\"/>\n      <use x=\"441.939453\" xlink:href=\"#DejaVuSans-101\"/>\n      <use x=\"503.462891\" xlink:href=\"#DejaVuSans-32\"/>\n      <use x=\"535.25\" xlink:href=\"#DejaVuSans-98\"/>\n      <use x=\"598.726562\" xlink:href=\"#DejaVuSans-101\"/>\n      <use x=\"660.25\" xlink:href=\"#DejaVuSans-116\"/>\n      <use x=\"699.458984\" xlink:href=\"#DejaVuSans-119\"/>\n      <use x=\"781.246094\" xlink:href=\"#DejaVuSans-101\"/>\n      <use x=\"842.769531\" xlink:href=\"#DejaVuSans-101\"/>\n      <use x=\"904.292969\" xlink:href=\"#DejaVuSans-110\"/>\n      <use x=\"967.671875\" xlink:href=\"#DejaVuSans-32\"/>\n      <use x=\"999.458984\" xlink:href=\"#DejaVuSans-109\"/>\n      <use x=\"1096.871094\" xlink:href=\"#DejaVuSans-97\"/>\n      <use x=\"1158.150391\" xlink:href=\"#DejaVuSans-120\"/>\n      <use x=\"1217.330078\" xlink:href=\"#DejaVuSans-45\"/>\n      <use x=\"1253.414062\" xlink:href=\"#DejaVuSans-109\"/>\n      <use x=\"1350.826172\" xlink:href=\"#DejaVuSans-105\"/>\n      <use x=\"1378.609375\" xlink:href=\"#DejaVuSans-110\"/>\n      <use x=\"1441.988281\" xlink:href=\"#DejaVuSans-32\"/>\n      <use x=\"1473.775391\" xlink:href=\"#DejaVuSans-118\"/>\n      <use x=\"1532.955078\" xlink:href=\"#DejaVuSans-97\"/>\n      <use x=\"1594.234375\" xlink:href=\"#DejaVuSans-108\"/>\n      <use x=\"1622.017578\" xlink:href=\"#DejaVuSans-117\"/>\n      <use x=\"1685.396484\" xlink:href=\"#DejaVuSans-101\"/>\n      <use x=\"1746.919922\" xlink:href=\"#DejaVuSans-32\"/>\n      <use x=\"1778.707031\" xlink:href=\"#DejaVuSans-111\"/>\n      <use x=\"1839.888672\" xlink:href=\"#DejaVuSans-102\"/>\n      <use x=\"1875.09375\" xlink:href=\"#DejaVuSans-32\"/>\n      <use x=\"1906.880859\" xlink:href=\"#DejaVuSans-69\"/>\n      <use x=\"1970.064453\" xlink:href=\"#DejaVuSans-67\"/>\n      <use x=\"2039.888672\" xlink:href=\"#DejaVuSans-118\"/>\n     </g>\n    </g>\n   </g>\n   <g id=\"matplotlib.axis_2\">\n    <g id=\"ytick_1\">\n     <g id=\"line2d_7\">\n      <defs>\n       <path d=\"M 0 0 \nL -3.5 0 \n\" id=\"mc886207961\" style=\"stroke:#000000;stroke-width:0.8;\"/>\n      </defs>\n      <g>\n       <use style=\"stroke:#000000;stroke-width:0.8;\" x=\"121.926563\" xlink:href=\"#mc886207961\" y=\"851.634375\"/>\n      </g>\n     </g>\n     <g id=\"text_8\">\n      <!-- 0 -->\n      <g transform=\"translate(99.020313 861.132422)scale(0.25 -0.25)\">\n       <use xlink:href=\"#DejaVuSans-48\"/>\n      </g>\n     </g>\n    </g>\n    <g id=\"ytick_2\">\n     <g id=\"line2d_8\">\n      <g>\n       <use style=\"stroke:#000000;stroke-width:0.8;\" x=\"121.926563\" xlink:href=\"#mc886207961\" y=\"747.942201\"/>\n      </g>\n     </g>\n     <g id=\"text_9\">\n      <!-- 5000 -->\n      <g transform=\"translate(51.301563 757.440248)scale(0.25 -0.25)\">\n       <defs>\n        <path d=\"M 10.796875 72.90625 \nL 49.515625 72.90625 \nL 49.515625 64.59375 \nL 19.828125 64.59375 \nL 19.828125 46.734375 \nQ 21.96875 47.46875 24.109375 47.828125 \nQ 26.265625 48.1875 28.421875 48.1875 \nQ 40.625 48.1875 47.75 41.5 \nQ 54.890625 34.8125 54.890625 23.390625 \nQ 54.890625 11.625 47.5625 5.09375 \nQ 40.234375 -1.421875 26.90625 -1.421875 \nQ 22.3125 -1.421875 17.546875 -0.640625 \nQ 12.796875 0.140625 7.71875 1.703125 \nL 7.71875 11.625 \nQ 12.109375 9.234375 16.796875 8.0625 \nQ 21.484375 6.890625 26.703125 6.890625 \nQ 35.15625 6.890625 40.078125 11.328125 \nQ 45.015625 15.765625 45.015625 23.390625 \nQ 45.015625 31 40.078125 35.4375 \nQ 35.15625 39.890625 26.703125 39.890625 \nQ 22.75 39.890625 18.8125 39.015625 \nQ 14.890625 38.140625 10.796875 36.28125 \nz\n\" id=\"DejaVuSans-53\"/>\n       </defs>\n       <use xlink:href=\"#DejaVuSans-53\"/>\n       <use x=\"63.623047\" xlink:href=\"#DejaVuSans-48\"/>\n       <use x=\"127.246094\" xlink:href=\"#DejaVuSans-48\"/>\n       <use x=\"190.869141\" xlink:href=\"#DejaVuSans-48\"/>\n      </g>\n     </g>\n    </g>\n    <g id=\"ytick_3\">\n     <g id=\"line2d_9\">\n      <g>\n       <use style=\"stroke:#000000;stroke-width:0.8;\" x=\"121.926563\" xlink:href=\"#mc886207961\" y=\"644.250027\"/>\n      </g>\n     </g>\n     <g id=\"text_10\">\n      <!-- 10000 -->\n      <g transform=\"translate(35.395313 653.748074)scale(0.25 -0.25)\">\n       <use xlink:href=\"#DejaVuSans-49\"/>\n       <use x=\"63.623047\" xlink:href=\"#DejaVuSans-48\"/>\n       <use x=\"127.246094\" xlink:href=\"#DejaVuSans-48\"/>\n       <use x=\"190.869141\" xlink:href=\"#DejaVuSans-48\"/>\n       <use x=\"254.492188\" xlink:href=\"#DejaVuSans-48\"/>\n      </g>\n     </g>\n    </g>\n    <g id=\"ytick_4\">\n     <g id=\"line2d_10\">\n      <g>\n       <use style=\"stroke:#000000;stroke-width:0.8;\" x=\"121.926563\" xlink:href=\"#mc886207961\" y=\"540.557853\"/>\n      </g>\n     </g>\n     <g id=\"text_11\">\n      <!-- 15000 -->\n      <g transform=\"translate(35.395313 550.0559)scale(0.25 -0.25)\">\n       <use xlink:href=\"#DejaVuSans-49\"/>\n       <use x=\"63.623047\" xlink:href=\"#DejaVuSans-53\"/>\n       <use x=\"127.246094\" xlink:href=\"#DejaVuSans-48\"/>\n       <use x=\"190.869141\" xlink:href=\"#DejaVuSans-48\"/>\n       <use x=\"254.492188\" xlink:href=\"#DejaVuSans-48\"/>\n      </g>\n     </g>\n    </g>\n    <g id=\"ytick_5\">\n     <g id=\"line2d_11\">\n      <g>\n       <use style=\"stroke:#000000;stroke-width:0.8;\" x=\"121.926563\" xlink:href=\"#mc886207961\" y=\"436.86568\"/>\n      </g>\n     </g>\n     <g id=\"text_12\">\n      <!-- 20000 -->\n      <g transform=\"translate(35.395313 446.363726)scale(0.25 -0.25)\">\n       <use xlink:href=\"#DejaVuSans-50\"/>\n       <use x=\"63.623047\" xlink:href=\"#DejaVuSans-48\"/>\n       <use x=\"127.246094\" xlink:href=\"#DejaVuSans-48\"/>\n       <use x=\"190.869141\" xlink:href=\"#DejaVuSans-48\"/>\n       <use x=\"254.492188\" xlink:href=\"#DejaVuSans-48\"/>\n      </g>\n     </g>\n    </g>\n    <g id=\"ytick_6\">\n     <g id=\"line2d_12\">\n      <g>\n       <use style=\"stroke:#000000;stroke-width:0.8;\" x=\"121.926563\" xlink:href=\"#mc886207961\" y=\"333.173506\"/>\n      </g>\n     </g>\n     <g id=\"text_13\">\n      <!-- 25000 -->\n      <g transform=\"translate(35.395313 342.671553)scale(0.25 -0.25)\">\n       <use xlink:href=\"#DejaVuSans-50\"/>\n       <use x=\"63.623047\" xlink:href=\"#DejaVuSans-53\"/>\n       <use x=\"127.246094\" xlink:href=\"#DejaVuSans-48\"/>\n       <use x=\"190.869141\" xlink:href=\"#DejaVuSans-48\"/>\n       <use x=\"254.492188\" xlink:href=\"#DejaVuSans-48\"/>\n      </g>\n     </g>\n    </g>\n    <g id=\"ytick_7\">\n     <g id=\"line2d_13\">\n      <g>\n       <use style=\"stroke:#000000;stroke-width:0.8;\" x=\"121.926563\" xlink:href=\"#mc886207961\" y=\"229.481332\"/>\n      </g>\n     </g>\n     <g id=\"text_14\">\n      <!-- 30000 -->\n      <g transform=\"translate(35.395313 238.979379)scale(0.25 -0.25)\">\n       <defs>\n        <path d=\"M 40.578125 39.3125 \nQ 47.65625 37.796875 51.625 33 \nQ 55.609375 28.21875 55.609375 21.1875 \nQ 55.609375 10.40625 48.1875 4.484375 \nQ 40.765625 -1.421875 27.09375 -1.421875 \nQ 22.515625 -1.421875 17.65625 -0.515625 \nQ 12.796875 0.390625 7.625 2.203125 \nL 7.625 11.71875 \nQ 11.71875 9.328125 16.59375 8.109375 \nQ 21.484375 6.890625 26.8125 6.890625 \nQ 36.078125 6.890625 40.9375 10.546875 \nQ 45.796875 14.203125 45.796875 21.1875 \nQ 45.796875 27.640625 41.28125 31.265625 \nQ 36.765625 34.90625 28.71875 34.90625 \nL 20.21875 34.90625 \nL 20.21875 43.015625 \nL 29.109375 43.015625 \nQ 36.375 43.015625 40.234375 45.921875 \nQ 44.09375 48.828125 44.09375 54.296875 \nQ 44.09375 59.90625 40.109375 62.90625 \nQ 36.140625 65.921875 28.71875 65.921875 \nQ 24.65625 65.921875 20.015625 65.03125 \nQ 15.375 64.15625 9.8125 62.3125 \nL 9.8125 71.09375 \nQ 15.4375 72.65625 20.34375 73.4375 \nQ 25.25 74.21875 29.59375 74.21875 \nQ 40.828125 74.21875 47.359375 69.109375 \nQ 53.90625 64.015625 53.90625 55.328125 \nQ 53.90625 49.265625 50.4375 45.09375 \nQ 46.96875 40.921875 40.578125 39.3125 \nz\n\" id=\"DejaVuSans-51\"/>\n       </defs>\n       <use xlink:href=\"#DejaVuSans-51\"/>\n       <use x=\"63.623047\" xlink:href=\"#DejaVuSans-48\"/>\n       <use x=\"127.246094\" xlink:href=\"#DejaVuSans-48\"/>\n       <use x=\"190.869141\" xlink:href=\"#DejaVuSans-48\"/>\n       <use x=\"254.492188\" xlink:href=\"#DejaVuSans-48\"/>\n      </g>\n     </g>\n    </g>\n    <g id=\"ytick_8\">\n     <g id=\"line2d_14\">\n      <g>\n       <use style=\"stroke:#000000;stroke-width:0.8;\" x=\"121.926563\" xlink:href=\"#mc886207961\" y=\"125.789158\"/>\n      </g>\n     </g>\n     <g id=\"text_15\">\n      <!-- 35000 -->\n      <g transform=\"translate(35.395313 135.287205)scale(0.25 -0.25)\">\n       <use xlink:href=\"#DejaVuSans-51\"/>\n       <use x=\"63.623047\" xlink:href=\"#DejaVuSans-53\"/>\n       <use x=\"127.246094\" xlink:href=\"#DejaVuSans-48\"/>\n       <use x=\"190.869141\" xlink:href=\"#DejaVuSans-48\"/>\n       <use x=\"254.492188\" xlink:href=\"#DejaVuSans-48\"/>\n      </g>\n     </g>\n    </g>\n    <g id=\"text_16\">\n     <!-- Count -->\n     <g transform=\"translate(26.196094 481.055469)rotate(-90)scale(0.25 -0.25)\">\n      <use xlink:href=\"#DejaVuSans-67\"/>\n      <use x=\"69.824219\" xlink:href=\"#DejaVuSans-111\"/>\n      <use x=\"131.005859\" xlink:href=\"#DejaVuSans-117\"/>\n      <use x=\"194.384766\" xlink:href=\"#DejaVuSans-110\"/>\n      <use x=\"257.763672\" xlink:href=\"#DejaVuSans-116\"/>\n     </g>\n    </g>\n   </g>\n   <g id=\"patch_53\">\n    <path d=\"M 121.926563 851.634375 \nL 121.926563 36.234375 \n\" style=\"fill:none;stroke:#000000;stroke-linecap:square;stroke-linejoin:miter;stroke-width:0.8;\"/>\n   </g>\n   <g id=\"patch_54\">\n    <path d=\"M 1795.926563 851.634375 \nL 1795.926563 36.234375 \n\" style=\"fill:none;stroke:#000000;stroke-linecap:square;stroke-linejoin:miter;stroke-width:0.8;\"/>\n   </g>\n   <g id=\"patch_55\">\n    <path d=\"M 121.926563 851.634375 \nL 1795.926563 851.634375 \n\" style=\"fill:none;stroke:#000000;stroke-linecap:square;stroke-linejoin:miter;stroke-width:0.8;\"/>\n   </g>\n   <g id=\"patch_56\">\n    <path d=\"M 121.926563 36.234375 \nL 1795.926563 36.234375 \n\" style=\"fill:none;stroke:#000000;stroke-linecap:square;stroke-linejoin:miter;stroke-width:0.8;\"/>\n   </g>\n   <g id=\"text_17\">\n    <!-- Distribution of difference between max-min value of ECv -->\n    <g transform=\"translate(532.563281 29.995312)scale(0.3 -0.3)\">\n     <defs>\n      <path d=\"M 19.671875 64.796875 \nL 19.671875 8.109375 \nL 31.59375 8.109375 \nQ 46.6875 8.109375 53.6875 14.9375 \nQ 60.6875 21.78125 60.6875 36.53125 \nQ 60.6875 51.171875 53.6875 57.984375 \nQ 46.6875 64.796875 31.59375 64.796875 \nz\nM 9.8125 72.90625 \nL 30.078125 72.90625 \nQ 51.265625 72.90625 61.171875 64.09375 \nQ 71.09375 55.28125 71.09375 36.53125 \nQ 71.09375 17.671875 61.125 8.828125 \nQ 51.171875 0 30.078125 0 \nL 9.8125 0 \nz\n\" id=\"DejaVuSans-68\"/>\n      <path d=\"M 44.28125 53.078125 \nL 44.28125 44.578125 \nQ 40.484375 46.53125 36.375 47.5 \nQ 32.28125 48.484375 27.875 48.484375 \nQ 21.1875 48.484375 17.84375 46.4375 \nQ 14.5 44.390625 14.5 40.28125 \nQ 14.5 37.15625 16.890625 35.375 \nQ 19.28125 33.59375 26.515625 31.984375 \nL 29.59375 31.296875 \nQ 39.15625 29.25 43.1875 25.515625 \nQ 47.21875 21.78125 47.21875 15.09375 \nQ 47.21875 7.46875 41.1875 3.015625 \nQ 35.15625 -1.421875 24.609375 -1.421875 \nQ 20.21875 -1.421875 15.453125 -0.5625 \nQ 10.6875 0.296875 5.421875 2 \nL 5.421875 11.28125 \nQ 10.40625 8.6875 15.234375 7.390625 \nQ 20.0625 6.109375 24.8125 6.109375 \nQ 31.15625 6.109375 34.5625 8.28125 \nQ 37.984375 10.453125 37.984375 14.40625 \nQ 37.984375 18.0625 35.515625 20.015625 \nQ 33.0625 21.96875 24.703125 23.78125 \nL 21.578125 24.515625 \nQ 13.234375 26.265625 9.515625 29.90625 \nQ 5.8125 33.546875 5.8125 39.890625 \nQ 5.8125 47.609375 11.28125 51.796875 \nQ 16.75 56 26.8125 56 \nQ 31.78125 56 36.171875 55.265625 \nQ 40.578125 54.546875 44.28125 53.078125 \nz\n\" id=\"DejaVuSans-115\"/>\n     </defs>\n     <use xlink:href=\"#DejaVuSans-68\"/>\n     <use x=\"77.001953\" xlink:href=\"#DejaVuSans-105\"/>\n     <use x=\"104.785156\" xlink:href=\"#DejaVuSans-115\"/>\n     <use x=\"156.884766\" xlink:href=\"#DejaVuSans-116\"/>\n     <use x=\"196.09375\" xlink:href=\"#DejaVuSans-114\"/>\n     <use x=\"237.207031\" xlink:href=\"#DejaVuSans-105\"/>\n     <use x=\"264.990234\" xlink:href=\"#DejaVuSans-98\"/>\n     <use x=\"328.466797\" xlink:href=\"#DejaVuSans-117\"/>\n     <use x=\"391.845703\" xlink:href=\"#DejaVuSans-116\"/>\n     <use x=\"431.054688\" xlink:href=\"#DejaVuSans-105\"/>\n     <use x=\"458.837891\" xlink:href=\"#DejaVuSans-111\"/>\n     <use x=\"520.019531\" xlink:href=\"#DejaVuSans-110\"/>\n     <use x=\"583.398438\" xlink:href=\"#DejaVuSans-32\"/>\n     <use x=\"615.185547\" xlink:href=\"#DejaVuSans-111\"/>\n     <use x=\"676.367188\" xlink:href=\"#DejaVuSans-102\"/>\n     <use x=\"711.572266\" xlink:href=\"#DejaVuSans-32\"/>\n     <use x=\"743.359375\" xlink:href=\"#DejaVuSans-100\"/>\n     <use x=\"806.835938\" xlink:href=\"#DejaVuSans-105\"/>\n     <use x=\"834.619141\" xlink:href=\"#DejaVuSans-102\"/>\n     <use x=\"869.824219\" xlink:href=\"#DejaVuSans-102\"/>\n     <use x=\"905.029297\" xlink:href=\"#DejaVuSans-101\"/>\n     <use x=\"966.552734\" xlink:href=\"#DejaVuSans-114\"/>\n     <use x=\"1005.416016\" xlink:href=\"#DejaVuSans-101\"/>\n     <use x=\"1066.939453\" xlink:href=\"#DejaVuSans-110\"/>\n     <use x=\"1130.318359\" xlink:href=\"#DejaVuSans-99\"/>\n     <use x=\"1185.298828\" xlink:href=\"#DejaVuSans-101\"/>\n     <use x=\"1246.822266\" xlink:href=\"#DejaVuSans-32\"/>\n     <use x=\"1278.609375\" xlink:href=\"#DejaVuSans-98\"/>\n     <use x=\"1342.085938\" xlink:href=\"#DejaVuSans-101\"/>\n     <use x=\"1403.609375\" xlink:href=\"#DejaVuSans-116\"/>\n     <use x=\"1442.818359\" xlink:href=\"#DejaVuSans-119\"/>\n     <use x=\"1524.605469\" xlink:href=\"#DejaVuSans-101\"/>\n     <use x=\"1586.128906\" xlink:href=\"#DejaVuSans-101\"/>\n     <use x=\"1647.652344\" xlink:href=\"#DejaVuSans-110\"/>\n     <use x=\"1711.03125\" xlink:href=\"#DejaVuSans-32\"/>\n     <use x=\"1742.818359\" xlink:href=\"#DejaVuSans-109\"/>\n     <use x=\"1840.230469\" xlink:href=\"#DejaVuSans-97\"/>\n     <use x=\"1901.509766\" xlink:href=\"#DejaVuSans-120\"/>\n     <use x=\"1960.689453\" xlink:href=\"#DejaVuSans-45\"/>\n     <use x=\"1996.773438\" xlink:href=\"#DejaVuSans-109\"/>\n     <use x=\"2094.185547\" xlink:href=\"#DejaVuSans-105\"/>\n     <use x=\"2121.96875\" xlink:href=\"#DejaVuSans-110\"/>\n     <use x=\"2185.347656\" xlink:href=\"#DejaVuSans-32\"/>\n     <use x=\"2217.134766\" xlink:href=\"#DejaVuSans-118\"/>\n     <use x=\"2276.314453\" xlink:href=\"#DejaVuSans-97\"/>\n     <use x=\"2337.59375\" xlink:href=\"#DejaVuSans-108\"/>\n     <use x=\"2365.376953\" xlink:href=\"#DejaVuSans-117\"/>\n     <use x=\"2428.755859\" xlink:href=\"#DejaVuSans-101\"/>\n     <use x=\"2490.279297\" xlink:href=\"#DejaVuSans-32\"/>\n     <use x=\"2522.066406\" xlink:href=\"#DejaVuSans-111\"/>\n     <use x=\"2583.248047\" xlink:href=\"#DejaVuSans-102\"/>\n     <use x=\"2618.453125\" xlink:href=\"#DejaVuSans-32\"/>\n     <use x=\"2650.240234\" xlink:href=\"#DejaVuSans-69\"/>\n     <use x=\"2713.423828\" xlink:href=\"#DejaVuSans-67\"/>\n     <use x=\"2783.248047\" xlink:href=\"#DejaVuSans-118\"/>\n    </g>\n   </g>\n  </g>\n </g>\n <defs>\n  <clipPath id=\"p8f944dc2ec\">\n   <rect height=\"815.4\" width=\"1674\" x=\"121.926563\" y=\"36.234375\"/>\n  </clipPath>\n </defs>\n</svg>\n",
      "image/png": "[encoded data removed]"
     },
     "metadata": {
      "needs_background": "light"
     }
    }
   ],
   "source": [
    "# figure\n",
    "plt.figure(figsize=(30, 15))\n",
    "plt.rcParams[\"font.family\"] = 'sans-serif'\n",
    "plt.rcParams['font.size'] = 25\n",
    "plt.title(f'Distribution of difference between max-min value of ECv', fontsize=30)\n",
    "plt.xlabel('difference between max-min value of ECv', fontsize=25)\n",
    "plt.ylabel('Count', fontsize=25)\n",
    "sns.distplot(list_ecv_maxmin, color=\"#9BC99B\", kde=False)\n",
    "# save\n",
    "savepath = f'./result/fig/IDEA1_2/3_scatterplot_diff_maxmin_ecv/fig_scatterplot_diff_maxmin_ecv.png'\n",
    "plt.savefig(savepath, dpi=300, format='png', bbox_inches=\"tight\")\n",
    "print(f'[SAVE]: {savepath}')"
   ]
  },
  {
   "cell_type": "code",
   "execution_count": null,
   "metadata": {},
   "outputs": [],
   "source": [
    "# calculate difference between max-min value of ecv\n",
    "def cal_ecv_maxmin():\n",
    "    list_ecv_maxmin = []\n",
    "    for i in range(len(data_ecv)):\n",
    "        ecv_max = data_ecv.iloc[i, 2:].max()\n",
    "        ecv_min = data_ecv.iloc[i, 2:].min()\n",
    "        ecv_maxmin = abs(ecv_max - ecv_min)\n",
    "        list_ecv_maxmin.append(ecv_maxmin)\n",
    "    # figure\n",
    "    plt.figure(figsize=(30, 15))\n",
    "    plt.rcParams[\"font.family\"] = 'sans-serif'\n",
    "    plt.rcParams['font.size'] = 25\n",
    "    plt.title(f'Distribution of range between max-min value of ECv', fontsize=30)\n",
    "    plt.xlabel('range between max-min value of ECv', fontsize=25)\n",
    "    plt.ylabel('Count', fontsize=25)\n",
    "    sns.distplot(list_ecv_maxmin, color=\"#9BC99B\", kde=False)\n",
    "    # save\n",
    "    savepath = f'./result/fig/IDEA1_2/3_scatterplot_range_ecv/fig_scatterplot_range_ecv.png'\n",
    "    plt.savefig(savepath, dpi=300, format='png', bbox_inches=\"tight\")\n",
    "    print(f'[SAVE]: {savepath}')\n",
    "    return list_ecv_maxmin"
   ]
  },
  {
   "cell_type": "code",
   "execution_count": null,
   "metadata": {},
   "outputs": [],
   "source": [
    "# calculate difference between max-min value of ecv\n"
   ]
  }
 ]
}